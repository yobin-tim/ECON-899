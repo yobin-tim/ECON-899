{
 "cells": [
  {
   "cell_type": "code",
   "execution_count": 1,
   "id": "6287d459-267c-44b0-8050-413dec3b0ed9",
   "metadata": {},
   "outputs": [],
   "source": [
    "using LinearAlgebra, Parameters, Plots, LaTeXStrings, Latexify\n",
    "theme(:juno)\n",
    "default(fontfamily=\"Computer Modern\", framestyle=:box) # LaTex-style"
   ]
  },
  {
   "cell_type": "code",
   "execution_count": 15,
   "id": "bafb5769-8d54-49aa-856d-65e1bf4bdce3",
   "metadata": {},
   "outputs": [
    {
     "ename": "LoadError",
     "evalue": "LoadError: LoadError: AssertionError: a.head == :(::)\nin expression starting at /home/mitchv34/Work/2nd Year/ECON 899 (Computational Methods)/1st Quarter/Problem Sets/Shared Repo/Shared Repo/PS5/JuliaCode/krusell_smith.jl:30\nin expression starting at /home/mitchv34/Work/2nd Year/ECON 899 (Computational Methods)/1st Quarter/Problem Sets/Shared Repo/Shared Repo/PS5/JuliaCode/krusell_smith.jl:30",
     "output_type": "error",
     "traceback": [
      "LoadError: LoadError: AssertionError: a.head == :(::)\nin expression starting at /home/mitchv34/Work/2nd Year/ECON 899 (Computational Methods)/1st Quarter/Problem Sets/Shared Repo/Shared Repo/PS5/JuliaCode/krusell_smith.jl:30\nin expression starting at /home/mitchv34/Work/2nd Year/ECON 899 (Computational Methods)/1st Quarter/Problem Sets/Shared Repo/Shared Repo/PS5/JuliaCode/krusell_smith.jl:30",
      "",
      "Stacktrace:",
      " [1] decolon2",
      "   @ ~/.julia/packages/Parameters/cGriM/src/Parameters.jl:102 [inlined]",
      " [2] with_kw(typedef::Expr, mod::Module, withshow::Bool)",
      "   @ Parameters ~/.julia/packages/Parameters/cGriM/src/Parameters.jl:444",
      " [3] var\"@with_kw\"(__source__::LineNumberNode, __module__::Module, typedef::Any)",
      "   @ Parameters ~/.julia/packages/Parameters/cGriM/src/Parameters.jl:633",
      " [4] include(fname::String)",
      "   @ Base.MainInclude ./client.jl:444",
      " [5] top-level scope",
      "   @ In[15]:1",
      " [6] eval",
      "   @ ./boot.jl:360 [inlined]",
      " [7] include_string(mapexpr::typeof(REPL.softscope), mod::Module, code::String, filename::String)",
      "   @ Base ./loading.jl:1116"
     ]
    }
   ],
   "source": [
    "include(\"../JuliaCode/krusell_smith.jl\")"
   ]
  },
  {
   "cell_type": "markdown",
   "id": "d0246ad7-05c7-490a-acd7-0755dde6c251",
   "metadata": {},
   "source": [
    "# Problem Set 5\n",
    "\n",
    "This problem set implements an approximate equilibrium of a Aiyagari (1994) economy with aggregate uncertainty using the techniques in Krusell and Smith (1998).  "
   ]
  },
  {
   "cell_type": "markdown",
   "id": "de43cd1d-2f41-4099-a79b-295142eec1b5",
   "metadata": {
    "tags": []
   },
   "source": [
    "## Model Set-up\n",
    "\n",
    "* a unit measure of agent\n",
    "* the time period is one quarter\n",
    "* preferences are given by:$$\\sum_{t=0}^\\infty \\beta^t\\log{c_t}$$\n",
    "* $\\beta = 0.99$\n",
    "* The production technology is given by$$y_{t}=z_{t} k_{t}^{\\alpha} l_{t}^{1-\\alpha}$$\n",
    "* $\\alpha=0.36$\n",
    "* aggregate technology shocks $z_{t} \\in\\left\\{z_{g}=1.01, z_{b}=0.99\\right\\}$ are drawn from a Markov process.\n",
    "* capital depreciates at rate $\\delta=0.025$.\n",
    "* agents have 1 unit of time.\n",
    "* agents face idiosyncratic employment opportunities $\\varepsilon_{t} \\in\\{0,1\\}$ where $\\varepsilon_{t}=1$ \n",
    "* if an agent is employed receives wage $w_{t} \\bar{e}$ (where $\\bar{e}=0.3271$ denotes labor efficiency per unit of time worked)"
   ]
  },
  {
   "cell_type": "markdown",
   "id": "311f2704-833a-46a6-b6a9-489069e18241",
   "metadata": {
    "tags": []
   },
   "source": [
    "The probability of transition from state $(z, \\varepsilon)$ to $\\left(z^{\\prime}, \\varepsilon^{\\prime}\\right)$, denoted $\\pi_{z z^{\\prime} \\varepsilon \\varepsilon^{\\prime}}$ must satisfy certain conditions:\n",
    "$$\n",
    "\\pi_{z z^{\\prime} 00}+\\pi_{z z^{\\prime} 01}=\\pi_{z z^{\\prime} 10}+\\pi_{z z^{\\prime} 11}=\\pi_{z z^{\\prime}}\n",
    "$$\n",
    "and\n",
    "$$\n",
    "u_{z} \\frac{\\pi_{z z^{\\prime} 00}}{\\pi_{z z^{\\prime}}}+\\left(1-u_{z}\\right) \\frac{\\pi_{z z^{\\prime} 10}}{\\pi_{z z^{\\prime}}}=u_{z^{\\prime}}\n",
    "$$\n",
    "where $u_{z}$ denotes the fraction of those unemployed in state $z$ with $u_{g}=4 \\%$ and $u_{b}=10 \\%$. The other restrictions on $\\pi_{z z^{\\prime} \\varepsilon \\varepsilon^{\\prime}}$ necessary to pin down the transition matrix are that: the average duration of good and bad times is 8 quarters; the average duration of unemployment spells is $1.5$ quarters in good times and $2.5$ quarters in bad times; and\n",
    "$$\n",
    "\\frac{\\pi_{g b 00}}{\\pi_{g b}}=1.25 \\cdot \\frac{\\pi_{b b 00}}{\\pi_{b b}} \\text { and } \\frac{\\pi_{b g 00}}{\\pi_{b g}} 0.75 \\cdot \\frac{\\pi_{g g 00}}{\\pi_{g g}}\n",
    "$$\n",
    "\n",
    "We will start by defining a function that receives this data and returns the transition matrix. This function will be used to populate the primitives of the model at a later stage."
   ]
  },
  {
   "cell_type": "code",
   "execution_count": 150,
   "id": "714d28c0-6428-493a-9444-7c648bb3b83a",
   "metadata": {},
   "outputs": [
    {
     "data": {
      "text/plain": [
       "trans_mat"
      ]
     },
     "execution_count": 150,
     "metadata": {},
     "output_type": "execute_result"
    }
   ],
   "source": [
    "# Generate the transition matrix and display it"
   ]
  },
  {
   "cell_type": "markdown",
   "id": "7d698c40-eb99-43c0-860c-79c7a440c8ea",
   "metadata": {},
   "source": [
    "* Capital is the only asset to self insure fluctuations; households rent their capital $k_{t} \\in[0, \\infty)$ to firms and receive rate of return $r_{t}$. \n",
    "* Without loss of generality, we can consider one firm which hires $L_{t}$ units of labor efficiency units (so that $\\left.L_{t}=\\bar{e}\\left(1-u_{t}\\right)\\right)$ and rents capital $K$ so that wages and rental rates are given by their marginal products:\n",
    "$$\n",
    "\\begin{aligned}\n",
    "w_{t} & \\equiv w\\left(K_{t}, L_{t}, z_{t}\\right)=(1-\\alpha) z_{t}\\left(\\frac{K_{t}}{L_{t}}\\right)^{\\alpha} \\\\\n",
    "r_{t} & \\equiv r\\left(K_{t}, L_{t}, z_{t}\\right)=\\alpha z_{t}\\left(\\frac{K_{t}}{L_{t}}\\right)^{\\alpha-1}\n",
    "\\end{aligned}\n",
    "$$\n"
   ]
  },
  {
   "cell_type": "markdown",
   "id": "7274788f-ac56-4391-bfd9-2d7edb1eb8ca",
   "metadata": {},
   "source": [
    "As in Krusell and Smith, approximate the true distribution $\\Gamma_{t}$ over $\\left(k_{t}, \\varepsilon_{t}\\right)$ in state $z_{t}$ by $I$ moments and let the law of motion for the moment be $$m^{\\prime}=h_{I}\\left(m, z, z^{\\prime}\\right)$$\n",
    "\n",
    "### Initial Conditions\n",
    "* Start with $z=z_g$\n",
    "* "
   ]
  },
  {
   "cell_type": "markdown",
   "id": "d59cd0a1-d34f-4ea4-b54f-27b2adc40972",
   "metadata": {},
   "source": [
    "### Initializing the model\n",
    "Next we will initialize the model"
   ]
  },
  {
   "cell_type": "code",
   "execution_count": 10,
   "id": "4c0322dd-0b43-46ee-8ca3-41ea24bd91cc",
   "metadata": {},
   "outputs": [
    {
     "data": {
      "text/plain": [
       "([0.8506944444444444 0.12291666666666666 0.5833333333333334 0.09375; 0.11588541666666667 0.836111111111111 0.03125 0.35000000000000003; 0.024305555555555556 0.0020833333333333333 0.29166666666666663 0.03125; 0.009114583333333334 0.038888888888888896 0.09375 0.525], [0.875 0.125; 0.125 0.875])"
      ]
     },
     "execution_count": 10,
     "metadata": {},
     "output_type": "execute_result"
    }
   ],
   "source": [
    "p, P = trans_mat([8.0, 8.0], [1.5, 2.5], [0.04, 0.1])\n"
   ]
  },
  {
   "cell_type": "code",
   "execution_count": 11,
   "id": "fb2df15d-5f97-4a05-8c5a-8c36f9d24d7e",
   "metadata": {},
   "outputs": [
    {
     "data": {
      "text/plain": [
       "2×2 Matrix{Float64}:\n",
       " 0.875  0.125\n",
       " 0.125  0.875"
      ]
     },
     "execution_count": 11,
     "metadata": {},
     "output_type": "execute_result"
    }
   ],
   "source": [
    "P"
   ]
  },
  {
   "cell_type": "code",
   "execution_count": 12,
   "id": "b212e123-8489-4d99-ae69-f1642f997b63",
   "metadata": {},
   "outputs": [
    {
     "data": {
      "text/plain": [
       "4×4 Matrix{Float64}:\n",
       " 0.850694    0.122917    0.583333  0.09375\n",
       " 0.115885    0.836111    0.03125   0.35\n",
       " 0.0243056   0.00208333  0.291667  0.03125\n",
       " 0.00911458  0.0388889   0.09375   0.525"
      ]
     },
     "execution_count": 12,
     "metadata": {},
     "output_type": "execute_result"
    }
   ],
   "source": [
    "p"
   ]
  },
  {
   "cell_type": "code",
   "execution_count": null,
   "id": "5129cdc6-3c80-49c8-8b5f-469145f68075",
   "metadata": {},
   "outputs": [],
   "source": []
  }
 ],
 "metadata": {
  "kernelspec": {
   "display_name": "Julia 1.6.2",
   "language": "julia",
   "name": "julia-1.6"
  },
  "language_info": {
   "file_extension": ".jl",
   "mimetype": "application/julia",
   "name": "julia",
   "version": "1.6.2"
  }
 },
 "nbformat": 4,
 "nbformat_minor": 5
}
