{
 "cells": [
  {
   "cell_type": "markdown",
   "id": "d0246ad7-05c7-490a-acd7-0755dde6c251",
   "metadata": {},
   "source": [
    "# Problem Set 5\n",
    "\n",
    "This problem set implements an approximate equilibrium of a Aiyagari (1994) economy with aggregate uncertainty using the techniques in Krusell and Smith (1998).  "
   ]
  },
  {
   "cell_type": "markdown",
   "id": "de43cd1d-2f41-4099-a79b-295142eec1b5",
   "metadata": {
    "tags": []
   },
   "source": [
    "## Model Set-up\n",
    "\n",
    "* a unit measure of agent\n",
    "* the time period is one quarter\n",
    "* preferences are given by:$$\\sum_{t=0}^\\infty \\beta^t\\log{c_t}$$\n",
    "* $\\beta = 0.99$\n",
    "* The production technology is given by$$y_{t}=z_{t} k_{t}^{\\alpha} l_{t}^{1-\\alpha}$$\n",
    "* $\\alpha=0.36$\n",
    "* aggregate technology shocks $z_{t} \\in\\left\\{z_{g}=1.01, z_{b}=0.99\\right\\}$ are drawn from a Markov process.\n",
    "* capital depreciates at rate $\\delta=0.025$.\n",
    "* agents have 1 unit of time.\n",
    "* agents face idiosyncratic employment opportunities $\\varepsilon_{t} \\in\\{0,1\\}$ where $\\varepsilon_{t}=1$ \n",
    "* if an agent is employed receives wage $w_{t} \\bar{e}$ (where $\\bar{e}=0.3271$ denotes labor efficiency per unit of time worked)"
   ]
  },
  {
   "cell_type": "markdown",
   "id": "311f2704-833a-46a6-b6a9-489069e18241",
   "metadata": {
    "tags": []
   },
   "source": [
    "The probability of transition from state $(z, \\varepsilon)$ to $\\left(z^{\\prime}, \\varepsilon^{\\prime}\\right)$, denoted $\\pi_{z z^{\\prime} \\varepsilon \\varepsilon^{\\prime}}$ must satisfy certain conditions:\n",
    "$$\n",
    "\\pi_{z z^{\\prime} 00}+\\pi_{z z^{\\prime} 01}=\\pi_{z z^{\\prime} 10}+\\pi_{z z^{\\prime} 11}=\\pi_{z z^{\\prime}}\n",
    "$$\n",
    "and\n",
    "$$\n",
    "u_{z} \\frac{\\pi_{z z^{\\prime} 00}}{\\pi_{z z^{\\prime}}}+\\left(1-u_{z}\\right) \\frac{\\pi_{z z^{\\prime} 10}}{\\pi_{z z^{\\prime}}}=u_{z^{\\prime}}\n",
    "$$\n",
    "where $u_{z}$ denotes the fraction of those unemployed in state $z$ with $u_{g}=4 \\%$ and $u_{b}=10 \\%$. The other restrictions on $\\pi_{z z^{\\prime} \\varepsilon \\varepsilon^{\\prime}}$ necessary to pin down the transition matrix are that: the average duration of good and bad times is 8 quarters; the average duration of unemployment spells is $1.5$ quarters in good times and $2.5$ quarters in bad times; and\n",
    "$$\n",
    "\\frac{\\pi_{g b 00}}{\\pi_{g b}}=1.25 \\cdot \\frac{\\pi_{b b 00}}{\\pi_{b b}} \\text { and } \\frac{\\pi_{b g 00}}{\\pi_{b g}} 0.75 \\cdot \\frac{\\pi_{g g 00}}{\\pi_{g g}}\n",
    "$$\n",
    "\n",
    "We will start by defining a function that receives this data and returns the transition matrix. This function will be used to populate the primitives of the model at a later stage."
   ]
  },
  {
   "cell_type": "code",
   "execution_count": 130,
   "id": "714d28c0-6428-493a-9444-7c648bb3b83a",
   "metadata": {},
   "outputs": [
    {
     "data": {
      "text/plain": [
       "trans_mat"
      ]
     },
     "execution_count": 130,
     "metadata": {},
     "output_type": "execute_result"
    }
   ],
   "source": [
    "using LinearAlgebra\n",
    "@doc \"\"\"\n",
    "    The following function recieves the followig input:\n",
    "\n",
    "        - d_z:Array{Float64,1} the duration of states [d_g, d_b]\n",
    "        - d_unemp:Array{Float64,1} the duration of unemployment in each state [d_unemp_g, d_unemp_b]\n",
    "        - u:Array{Float64,1} the fraction of people unemployed inn each state [u_g, u_b]\n",
    "    \n",
    "    and returns:\n",
    "\n",
    "        - Π:{Array,2} the transition matrix Π_z'ze'e\n",
    "    \"\"\"\n",
    "function trans_mat()\n",
    "    d_z = ( d_z .- 1 )./d_z\n",
    "    # transition probabilities between states: [[π_gg, π_gb][π_bg, π_bb]]\n",
    "    Π_z = [d_z[1] 1-d_z[1]; 1-d_z[2] d_z[2]]\n",
    "    # transition probabilities\n",
    "    Π = zeros(4,4)\n",
    "    d1 = Diagonal( (d_unemp .- 1) ./ d_unemp )\n",
    "    Π[3:4, 3:4] = d1 + (d1 .* Diagonal([ 0.75, 1.25]))[:,end:-1:1]\n",
    "    Π[1:2, 3:4] = 1 .- Π[3:4, 3:4] \n",
    "    Π[3:4, 1:2] = (u .- Π[3:4, 3:4] .* u')./(1 .- u')\n",
    "    Π[1:2, 1:2] = 1 .- Π[3:4, 1:2]\n",
    "    return Π .* repeat(Π_z', 2,2)\n",
    "end"
   ]
  },
  {
   "cell_type": "code",
   "execution_count": 131,
   "id": "caa74f1d-0366-4d8b-b108-bfd3ead4f424",
   "metadata": {},
   "outputs": [
    {
     "name": "stdout",
     "output_type": "stream",
     "text": [
      "search: \u001b[0m\u001b[1mt\u001b[22m\u001b[0m\u001b[1mr\u001b[22m\u001b[0m\u001b[1ma\u001b[22m\u001b[0m\u001b[1mn\u001b[22m\u001b[0m\u001b[1ms\u001b[22m\u001b[0m\u001b[1m_\u001b[22m\u001b[0m\u001b[1mm\u001b[22m\u001b[0m\u001b[1ma\u001b[22m\u001b[0m\u001b[1mt\u001b[22m\n",
      "\n"
     ]
    },
    {
     "data": {
      "text/latex": [
       "The following function recieves the followig input:     - d\\emph{z:Array\\{Float64,1\\} the duration of states [d}g, d\\emph{b]     - d}unemp:Array\\{Float64,1\\} the duration of unemployment in each state [d\\emph{unemp}g, d\\emph{unemp}b]     - u:Array\\{Float64,1\\} the fraction of people unemployed inn each state [u\\emph{g, u}b] and returns:     - Π:\\{Array,2\\} the transition matrix Π\\_z'ze'e\n",
       "\n"
      ],
      "text/markdown": [
       "The following function recieves the followig input:     - d*z:Array{Float64,1} the duration of states [d*g, d*b]     - d*unemp:Array{Float64,1} the duration of unemployment in each state [d*unemp*g, d*unemp*b]     - u:Array{Float64,1} the fraction of people unemployed inn each state [u*g, u*b] and returns:     - Π:{Array,2} the transition matrix Π_z'ze'e\n"
      ],
      "text/plain": [
       "  The following function recieves the followig input: - d\u001b[4mz:Array{Float64,1}\n",
       "  the duration of states [d\u001b[24mg, d\u001b[4mb] - d\u001b[24munemp:Array{Float64,1} the duration of\n",
       "  unemployment in each state [d\u001b[4munemp\u001b[24mg, d\u001b[4munemp\u001b[24mb] - u:Array{Float64,1} the\n",
       "  fraction of people unemployed inn each state [u\u001b[4mg, u\u001b[24mb] and returns: -\n",
       "  Π:{Array,2} the transition matrix Π_z'ze'e"
      ]
     },
     "execution_count": 131,
     "metadata": {},
     "output_type": "execute_result"
    }
   ],
   "source": [
    "?trans_mat"
   ]
  },
  {
   "cell_type": "code",
   "execution_count": 123,
   "id": "53f6b8ab-f849-4f4c-81c7-d9e975a8885c",
   "metadata": {},
   "outputs": [
    {
     "data": {
      "text/plain": [
       "2×2 Matrix{Float64}:\n",
       " 0.0277778  0.0166667\n",
       " 0.0729167  0.0444444"
      ]
     },
     "execution_count": 123,
     "metadata": {},
     "output_type": "execute_result"
    }
   ],
   "source": []
  },
  {
   "cell_type": "code",
   "execution_count": 122,
   "id": "07eb5864-a3ba-462a-9276-61074068f674",
   "metadata": {},
   "outputs": [
    {
     "data": {
      "text/plain": [
       "2-element Vector{Float64}:\n",
       " 0.14\n",
       " 0.14"
      ]
     },
     "execution_count": 122,
     "metadata": {},
     "output_type": "execute_result"
    }
   ],
   "source": [
    "ones(2,2) * u"
   ]
  },
  {
   "cell_type": "code",
   "execution_count": 100,
   "id": "8b17d2cb-5ae2-4d39-8f9b-977bcf1fd7af",
   "metadata": {},
   "outputs": [
    {
     "data": {
      "text/plain": [
       "2-element Vector{Float64}:\n",
       " 0.04\n",
       " 0.1"
      ]
     },
     "execution_count": 100,
     "metadata": {},
     "output_type": "execute_result"
    }
   ],
   "source": [
    "u"
   ]
  },
  {
   "cell_type": "code",
   "execution_count": 106,
   "id": "4c0322dd-0b43-46ee-8ca3-41ea24bd91cc",
   "metadata": {},
   "outputs": [
    {
     "data": {
      "text/plain": [
       "2×2 Matrix{Float64}:\n",
       " 0.04  0.1\n",
       " 0.1   0.04"
      ]
     },
     "execution_count": 106,
     "metadata": {},
     "output_type": "execute_result"
    }
   ],
   "source": [
    "hcat(u, reverse(u))"
   ]
  },
  {
   "cell_type": "code",
   "execution_count": null,
   "id": "660ef7b2-7f9d-460d-8fd4-564c2cd12a2f",
   "metadata": {},
   "outputs": [],
   "source": []
  }
 ],
 "metadata": {
  "kernelspec": {
   "display_name": "Julia 1.6.2",
   "language": "julia",
   "name": "julia-1.6"
  },
  "language_info": {
   "file_extension": ".jl",
   "mimetype": "application/julia",
   "name": "julia",
   "version": "1.6.2"
  }
 },
 "nbformat": 4,
 "nbformat_minor": 5
}
