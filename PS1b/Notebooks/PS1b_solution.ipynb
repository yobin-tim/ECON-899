{
 "cells": [
  {
   "cell_type": "code",
   "execution_count": 1,
   "id": "b5368972-5cf5-4183-9bad-8428d214e39e",
   "metadata": {},
   "outputs": [
    {
     "ename": "ArgumentError",
     "evalue": "ArgumentError: Package BenchmarkTools not found in current path:\n- Run `import Pkg; Pkg.add(\"BenchmarkTools\")` to install the BenchmarkTools package.\n",
     "output_type": "error",
     "traceback": [
      "\n",
      "Stacktrace:\n",
      "  [1] require(into::Module, mod::Symbol)\n",
      "    @ Base .\\loading.jl:893\n",
      "  [2] eval\n",
      "    @ .\\boot.jl:360 [inlined]\n",
      "  [3] include_string(mapexpr::typeof(REPL.softscope), mod::Module, code::String, filename::String)\n",
      "    @ Base .\\loading.jl:1116\n",
      "  [4] #invokelatest#2\n",
      "    @ .\\essentials.jl:708 [inlined]\n",
      "  [5] invokelatest\n",
      "    @ .\\essentials.jl:706 [inlined]\n",
      "  [6] (::VSCodeServer.var\"#98#99\"{VSCodeServer.NotebookRunCellArguments, String})()\n",
      "    @ VSCodeServer c:\\Users\\edgel\\.vscode\\extensions\\julialang.language-julia-1.4.3\\scripts\\packages\\VSCodeServer\\src\\serve_notebook.jl:18\n",
      "  [7] withpath(f::VSCodeServer.var\"#98#99\"{VSCodeServer.NotebookRunCellArguments, String}, path::String)\n",
      "    @ VSCodeServer c:\\Users\\edgel\\.vscode\\extensions\\julialang.language-julia-1.4.3\\scripts\\packages\\VSCodeServer\\src\\repl.jl:185\n",
      "  [8] notebook_runcell_request(conn::VSCodeServer.JSONRPC.JSONRPCEndpoint{Base.PipeEndpoint, Base.PipeEndpoint}, params::VSCodeServer.NotebookRunCellArguments)\n",
      "    @ VSCodeServer c:\\Users\\edgel\\.vscode\\extensions\\julialang.language-julia-1.4.3\\scripts\\packages\\VSCodeServer\\src\\serve_notebook.jl:14\n",
      "  [9] dispatch_msg(x::VSCodeServer.JSONRPC.JSONRPCEndpoint{Base.PipeEndpoint, Base.PipeEndpoint}, dispatcher::VSCodeServer.JSONRPC.MsgDispatcher, msg::Dict{String, Any})\n",
      "    @ VSCodeServer.JSONRPC c:\\Users\\edgel\\.vscode\\extensions\\julialang.language-julia-1.4.3\\scripts\\packages\\JSONRPC\\src\\typed.jl:67\n",
      " [10] serve_notebook(pipename::String; crashreporting_pipename::String)\n",
      "    @ VSCodeServer c:\\Users\\edgel\\.vscode\\extensions\\julialang.language-julia-1.4.3\\scripts\\packages\\VSCodeServer\\src\\serve_notebook.jl:94\n",
      " [11] top-level scope\n",
      "    @ c:\\Users\\edgel\\.vscode\\extensions\\julialang.language-julia-1.4.3\\scripts\\notebook\\notebook.jl:10\n",
      " [12] include(mod::Module, _path::String)\n",
      "    @ Base .\\Base.jl:386\n",
      " [13] exec_options(opts::Base.JLOptions)\n",
      "    @ Base .\\client.jl:285\n",
      " [14] _start()\n",
      "    @ Base .\\client.jl:485"
     ]
    }
   ],
   "source": [
    "using Distributed, SharedArrays, BenchmarkTools\n",
    "cd(\"/home/mitchv34/Work/2nd Year/ECON 899 (Computational Methods)/1st Quarter/Problem Sets/Shared Repo/Shared Repo\")"
   ]
  },
  {
   "cell_type": "markdown",
   "id": "016f1ac3-8b85-4fb6-bafd-c1da8b6b0259",
   "metadata": {},
   "source": [
    "# Problem Set 1b\n",
    "### Question 1.\n",
    "Using your favorite software (not Stata or R), write a routine that evaluates the fol\u0002lowing three functions: log-likelihood (conditional on β), score of the log-likelihood\n",
    "function, and Hessian. Evaluate the three functions at β0 = −1 and β = 0."
   ]
  },
  {
   "cell_type": "code",
   "execution_count": 3,
   "id": "0e0e1f09-2682-491d-935a-8274c3afef2b",
   "metadata": {},
   "outputs": [
    {
     "ename": "ArgumentError",
     "evalue": "ArgumentError: Package DataFrames not found in current path:\n- Run `import Pkg; Pkg.add(\"DataFrames\")` to install the DataFrames package.\n",
     "output_type": "error",
     "traceback": [
      "\n",
      "Stacktrace:\n",
      "  [1] require(into::Module, mod::Symbol)\n",
      "    @ Base .\\loading.jl:893\n",
      "  [2] eval\n",
      "    @ .\\boot.jl:360 [inlined]\n",
      "  [3] include_string(mapexpr::typeof(REPL.softscope), mod::Module, code::String, filename::String)\n",
      "    @ Base .\\loading.jl:1116\n",
      "  [4] #invokelatest#2\n",
      "    @ .\\essentials.jl:708 [inlined]\n",
      "  [5] invokelatest\n",
      "    @ .\\essentials.jl:706 [inlined]\n",
      "  [6] (::VSCodeServer.var\"#98#99\"{VSCodeServer.NotebookRunCellArguments, String})()\n",
      "    @ VSCodeServer c:\\Users\\edgel\\.vscode\\extensions\\julialang.language-julia-1.4.3\\scripts\\packages\\VSCodeServer\\src\\serve_notebook.jl:18\n",
      "  [7] withpath(f::VSCodeServer.var\"#98#99\"{VSCodeServer.NotebookRunCellArguments, String}, path::String)\n",
      "    @ VSCodeServer c:\\Users\\edgel\\.vscode\\extensions\\julialang.language-julia-1.4.3\\scripts\\packages\\VSCodeServer\\src\\repl.jl:185\n",
      "  [8] notebook_runcell_request(conn::VSCodeServer.JSONRPC.JSONRPCEndpoint{Base.PipeEndpoint, Base.PipeEndpoint}, params::VSCodeServer.NotebookRunCellArguments)\n",
      "    @ VSCodeServer c:\\Users\\edgel\\.vscode\\extensions\\julialang.language-julia-1.4.3\\scripts\\packages\\VSCodeServer\\src\\serve_notebook.jl:14\n",
      "  [9] dispatch_msg(x::VSCodeServer.JSONRPC.JSONRPCEndpoint{Base.PipeEndpoint, Base.PipeEndpoint}, dispatcher::VSCodeServer.JSONRPC.MsgDispatcher, msg::Dict{String, Any})\n",
      "    @ VSCodeServer.JSONRPC c:\\Users\\edgel\\.vscode\\extensions\\julialang.language-julia-1.4.3\\scripts\\packages\\JSONRPC\\src\\typed.jl:67\n",
      " [10] serve_notebook(pipename::String; crashreporting_pipename::String)\n",
      "    @ VSCodeServer c:\\Users\\edgel\\.vscode\\extensions\\julialang.language-julia-1.4.3\\scripts\\packages\\VSCodeServer\\src\\serve_notebook.jl:94\n",
      " [11] top-level scope\n",
      "    @ c:\\Users\\edgel\\.vscode\\extensions\\julialang.language-julia-1.4.3\\scripts\\notebook\\notebook.jl:10\n",
      " [12] include(mod::Module, _path::String)\n",
      "    @ Base .\\Base.jl:386\n",
      " [13] exec_options(opts::Base.JLOptions)\n",
      "    @ Base .\\client.jl:285\n",
      " [14] _start()\n",
      "    @ Base .\\client.jl:485"
     ]
    }
   ],
   "source": [
    "using CSV, DataFrames\n",
    "\n",
    "## load the mortgage data as a DataFrame \n",
    "df = DataFrame(CSV.File(\"../data/mortgage.csv\"))\n",
    "\n",
    "## Separate data into independent variable matrix X and\n",
    "## dependent variable vector Y\n",
    "X = df[!,[:i_large_loan,:i_medium_loan,:rate_spread,\n",
    "          :i_refinance,:age_r,:cltv,:dti, :cu,\n",
    "          :first_mort_r,:score_0,:score_1, :i_FHA,\n",
    "          :i_open_year2,:i_open_year3, :i_open_year4,\n",
    "          :i_open_year5]] |> Matrix\n",
    "\n",
    "Y = df[!, :i_close_first_year] #|> Matrix"
   ]
  }
 ],
 "metadata": {
  "kernelspec": {
   "display_name": "Julia 1.6.2",
   "language": "julia",
   "name": "julia-1.6"
  },
  "language_info": {
   "file_extension": ".jl",
   "mimetype": "application/julia",
   "name": "julia",
   "version": "1.6.2"
  }
 },
 "nbformat": 4,
 "nbformat_minor": 5
}
