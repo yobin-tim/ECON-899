{
 "cells": [
  {
   "cell_type": "markdown",
   "source": [
    "# Problem Set 3"
   ],
   "metadata": {}
  },
  {
   "cell_type": "code",
   "execution_count": 3,
   "source": [
    "using Parameters, DelimitedFiles, ProgressBars, CairoMakie\n",
    "cd(\"..\")\n",
    "include(\"../JuliaCode/conesa_kueger.jl\");"
   ],
   "outputs": [],
   "metadata": {}
  },
  {
   "cell_type": "markdown",
   "source": [
    "## Exercise 1\n",
    "Solve the dynamic programming problem of retirees and workers. Plot the value function over $a$ for a retired agent at the model-age 50 . Is it increasing and concave? Plot the savings function for a worker at the model-age $20, a_{20}^{\\prime}(z, a) .$ Is saving increasing in $a ?$ Is it increasing in $z ?$"
   ],
   "metadata": {}
  },
  {
   "cell_type": "code",
   "execution_count": 4,
   "source": [
    "# Initialize the model\n",
    "@time prim, res = Initialize();"
   ],
   "outputs": [
    {
     "output_type": "stream",
     "name": "stdout",
     "text": [
      " 26.635319 seconds (628.92 M allocations: 10.398 GiB, 7.69% gc time, 2.33% compilation time)\n"
     ]
    }
   ],
   "metadata": {}
  },
  {
   "cell_type": "code",
   "execution_count": 5,
   "source": [
    "# Solve the value function\n",
    "V(prim, res);"
   ],
   "outputs": [
    {
     "output_type": "stream",
     "name": "stdout",
     "text": [
      "Solving for productivity type 1.0\n"
     ]
    },
    {
     "output_type": "stream",
     "name": "stdout",
     "text": [
      "Solving for productivity type 0.5\n"
     ]
    },
    {
     "data": {
      "text/plain": [
       "1000×2×66 Array{Int64, 3}:\n",
       "[:, :, 1] =\n",
       "   1     1\n",
       "   1     1\n",
       "   2     2\n",
       "   2     3\n",
       "   3     4\n",
       "   4     5\n",
       "   5     6\n",
       "   5     7\n",
       "   6     8\n",
       "   7     9\n",
       "   ⋮  \n",
       " 958   995\n",
       " 959   996\n",
       " 960   996\n",
       " 961   997\n",
       " 962   998\n",
       " 963   999\n",
       " 964   999\n",
       " 965  1000\n",
       " 966  1000\n",
       "\n",
       "[:, :, 2] =\n",
       "   1     1\n",
       "   1     1\n",
       "   2     2\n",
       "   2     3\n",
       "   3     4\n",
       "   4     5\n",
       "   5     6\n",
       "   5     7\n",
       "   6     8\n",
       "   7     9\n",
       "   ⋮  \n",
       " 958   995\n",
       " 959   996\n",
       " 960   996\n",
       " 960   997\n",
       " 961   998\n",
       " 962   999\n",
       " 963   999\n",
       " 964  1000\n",
       " 965  1000\n",
       "\n",
       "[:, :, 3] =\n",
       "   1     1\n",
       "   1     1\n",
       "   2     2\n",
       "   2     3\n",
       "   3     4\n",
       "   4     5\n",
       "   5     6\n",
       "   5     7\n",
       "   6     8\n",
       "   7     9\n",
       "   ⋮  \n",
       " 957   995\n",
       " 958   996\n",
       " 959   996\n",
       " 960   997\n",
       " 961   998\n",
       " 962   999\n",
       " 963   999\n",
       " 964  1000\n",
       " 965  1000\n",
       "\n",
       "...\n",
       "\n",
       "[:, :, 64] =\n",
       "   0    0\n",
       "   2    2\n",
       "   2    2\n",
       "   3    3\n",
       "   3    3\n",
       "   4    4\n",
       "   4    4\n",
       "   5    5\n",
       "   6    6\n",
       "   6    6\n",
       "   ⋮  \n",
       " 669  681\n",
       " 669  682\n",
       " 670  683\n",
       " 671  683\n",
       " 671  684\n",
       " 672  685\n",
       " 673  686\n",
       " 673  686\n",
       " 674  687\n",
       "\n",
       "[:, :, 65] =\n",
       "   0    0\n",
       "   1    1\n",
       "   1    1\n",
       "   1    1\n",
       "   2    2\n",
       "   2    2\n",
       "   3    3\n",
       "   3    3\n",
       "   4    4\n",
       "   4    4\n",
       "   ⋮  \n",
       " 511  511\n",
       " 511  511\n",
       " 512  512\n",
       " 512  512\n",
       " 513  513\n",
       " 513  513\n",
       " 514  514\n",
       " 514  514\n",
       " 515  515\n",
       "\n",
       "[:, :, 66] =\n",
       " 0  0\n",
       " 0  0\n",
       " 0  0\n",
       " 0  0\n",
       " 0  0\n",
       " 0  0\n",
       " 0  0\n",
       " 0  0\n",
       " 0  0\n",
       " 0  0\n",
       " ⋮  \n",
       " 0  0\n",
       " 0  0\n",
       " 0  0\n",
       " 0  0\n",
       " 0  0\n",
       " 0  0\n",
       " 0  0\n",
       " 0  0\n",
       " 0  0"
      ]
     },
     "metadata": {},
     "output_type": "display_data"
    }
   ],
   "metadata": {}
  },
  {
   "cell_type": "code",
   "execution_count": null,
   "source": [
    "plot"
   ],
   "outputs": [],
   "metadata": {}
  },
  {
   "cell_type": "code",
   "execution_count": null,
   "source": [
    "1+1"
   ],
   "outputs": [],
   "metadata": {}
  },
  {
   "cell_type": "code",
   "execution_count": null,
   "source": [],
   "outputs": [],
   "metadata": {}
  }
 ],
 "metadata": {
  "orig_nbformat": 4,
  "language_info": {
   "name": "julia",
   "version": "1.6.2",
   "mimetype": "application/julia",
   "file_extension": ".jl"
  },
  "kernelspec": {
   "display_name": "Julia 1.6.2",
   "language": "julia",
   "name": "julia-1.6"
  }
 },
 "nbformat": 4,
 "nbformat_minor": 2
}