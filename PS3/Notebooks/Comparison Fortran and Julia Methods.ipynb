{
 "cells": [
  {
   "cell_type": "markdown",
   "source": [
    "# Fortran vs Julia"
   ],
   "metadata": {}
  },
  {
   "cell_type": "markdown",
   "source": [
    "I  this notebook I intend to compare the Fortran and Julia solvers for the PS3 model.\n",
    "\n",
    "First we will compare both solvers in regards to solving the Value Function."
   ],
   "metadata": {}
  },
  {
   "cell_type": "code",
   "execution_count": 4,
   "source": [
    "using Distributed, SharedArrays, BenchmarkTools\n",
    "cd(\"/home/mitchv34/Work/2nd Year/ECON 899 (Computational Methods)/1st Quarter/Problem Sets/Shared Repo/Shared Repo\")"
   ],
   "outputs": [],
   "metadata": {}
  },
  {
   "cell_type": "code",
   "execution_count": 8,
   "source": [
    "include(\"../JuliaCode/conesa_kueger.jl\");"
   ],
   "outputs": [],
   "metadata": {}
  },
  {
   "cell_type": "code",
   "execution_count": 17,
   "source": [
    "# This funciton will compile and run the Fortran code\n",
    "function V_fun_Fortran()\n",
    "    path = \"/home/mitchv34/Work/2nd Year/ECON 899 (Computational Methods)/1st Quarter/Problem Sets/Shared Repo/Shared Repo/PS3/FortranCode/\"\n",
    "    run(`gfortran -fopenmp -O2 -o $(path)V_fun_Fortran $(path)conesa_kueger.f90`)\n",
    "    run(`$(path)V_Fortran`)\n",
    "end"
   ],
   "outputs": [
    {
     "data": {
      "text/plain": [
       "V_fun_Fortran (generic function with 1 method)"
      ]
     },
     "metadata": {},
     "output_type": "display_data"
    }
   ],
   "metadata": {}
  },
  {
   "cell_type": "code",
   "execution_count": 20,
   "source": [
    "# We can benchmark the Fortran code\n",
    "@benchmark V_fun_Fortran()"
   ],
   "outputs": [
    {
     "data": {
      "text/plain": [
       "BenchmarkTools.Trial: 4 samples with 1 evaluation.\n",
       " Range \u001b[90m(\u001b[39m\u001b[36m\u001b[1mmin\u001b[22m\u001b[39m … \u001b[35mmax\u001b[39m\u001b[90m):  \u001b[39m\u001b[36m\u001b[1m1.422 s\u001b[22m\u001b[39m … \u001b[35m   1.775 s\u001b[39m  \u001b[90m┊\u001b[39m GC \u001b[90m(\u001b[39mmin … max\u001b[90m): \u001b[39m0.00% … 0.00%\n",
       " Time  \u001b[90m(\u001b[39m\u001b[34m\u001b[1mmedian\u001b[22m\u001b[39m\u001b[90m):     \u001b[39m\u001b[34m\u001b[1m1.695 s               \u001b[22m\u001b[39m\u001b[90m┊\u001b[39m GC \u001b[90m(\u001b[39mmedian\u001b[90m):    \u001b[39m0.00%\n",
       " Time  \u001b[90m(\u001b[39m\u001b[32m\u001b[1mmean\u001b[22m\u001b[39m ± \u001b[32mσ\u001b[39m\u001b[90m):   \u001b[39m\u001b[32m\u001b[1m1.647 s\u001b[22m\u001b[39m ± \u001b[32m157.521 ms\u001b[39m  \u001b[90m┊\u001b[39m GC \u001b[90m(\u001b[39mmean ± σ\u001b[90m):  \u001b[39m0.00% ± 0.00%\n",
       "\n",
       "  \u001b[39m█\u001b[39m \u001b[39m \u001b[39m \u001b[39m \u001b[39m \u001b[39m \u001b[39m \u001b[39m \u001b[39m \u001b[39m \u001b[39m \u001b[39m \u001b[39m \u001b[39m \u001b[39m \u001b[39m \u001b[39m \u001b[39m \u001b[39m \u001b[39m \u001b[39m \u001b[39m \u001b[39m \u001b[39m \u001b[39m \u001b[39m \u001b[39m \u001b[39m \u001b[39m \u001b[39m \u001b[39m \u001b[39m \u001b[39m \u001b[39m \u001b[39m \u001b[39m \u001b[32m \u001b[39m\u001b[34m█\u001b[39m\u001b[39m \u001b[39m \u001b[39m \u001b[39m \u001b[39m \u001b[39m \u001b[39m \u001b[39m \u001b[39m \u001b[39m \u001b[39m \u001b[39m \u001b[39m█\u001b[39m \u001b[39m \u001b[39m \u001b[39m \u001b[39m \u001b[39m█\u001b[39m \u001b[39m \n",
       "  \u001b[39m█\u001b[39m▁\u001b[39m▁\u001b[39m▁\u001b[39m▁\u001b[39m▁\u001b[39m▁\u001b[39m▁\u001b[39m▁\u001b[39m▁\u001b[39m▁\u001b[39m▁\u001b[39m▁\u001b[39m▁\u001b[39m▁\u001b[39m▁\u001b[39m▁\u001b[39m▁\u001b[39m▁\u001b[39m▁\u001b[39m▁\u001b[39m▁\u001b[39m▁\u001b[39m▁\u001b[39m▁\u001b[39m▁\u001b[39m▁\u001b[39m▁\u001b[39m▁\u001b[39m▁\u001b[39m▁\u001b[39m▁\u001b[39m▁\u001b[39m▁\u001b[39m▁\u001b[39m▁\u001b[39m▁\u001b[32m▁\u001b[39m\u001b[34m█\u001b[39m\u001b[39m▁\u001b[39m▁\u001b[39m▁\u001b[39m▁\u001b[39m▁\u001b[39m▁\u001b[39m▁\u001b[39m▁\u001b[39m▁\u001b[39m▁\u001b[39m▁\u001b[39m▁\u001b[39m█\u001b[39m▁\u001b[39m▁\u001b[39m▁\u001b[39m▁\u001b[39m▁\u001b[39m█\u001b[39m \u001b[39m▁\n",
       "  1.42 s\u001b[90m         Histogram: frequency by time\u001b[39m         1.77 s \u001b[0m\u001b[1m<\u001b[22m\n",
       "\n",
       " Memory estimate\u001b[90m: \u001b[39m\u001b[33m7.62 KiB\u001b[39m, allocs estimate\u001b[90m: \u001b[39m\u001b[33m166\u001b[39m."
      ]
     },
     "metadata": {},
     "output_type": "display_data"
    }
   ],
   "metadata": {}
  },
  {
   "cell_type": "code",
   "execution_count": 21,
   "source": [
    "# We can also benchmark the Julia code\n",
    "@benchmark begin\n",
    "    prim, res = Initialize()\n",
    "    V_ret(prim, res)\n",
    "    V_workers(prim, res)\n",
    "end"
   ],
   "outputs": [
    {
     "data": {
      "text/plain": [
       "BenchmarkTools.Trial: 3 samples with 1 evaluation.\n",
       " Range \u001b[90m(\u001b[39m\u001b[36m\u001b[1mmin\u001b[22m\u001b[39m … \u001b[35mmax\u001b[39m\u001b[90m):  \u001b[39m\u001b[36m\u001b[1m1.825 s\u001b[22m\u001b[39m … \u001b[35m  1.911 s\u001b[39m  \u001b[90m┊\u001b[39m GC \u001b[90m(\u001b[39mmin … max\u001b[90m): \u001b[39m0.70% … 0.86%\n",
       " Time  \u001b[90m(\u001b[39m\u001b[34m\u001b[1mmedian\u001b[22m\u001b[39m\u001b[90m):     \u001b[39m\u001b[34m\u001b[1m1.861 s              \u001b[22m\u001b[39m\u001b[90m┊\u001b[39m GC \u001b[90m(\u001b[39mmedian\u001b[90m):    \u001b[39m0.69%\n",
       " Time  \u001b[90m(\u001b[39m\u001b[32m\u001b[1mmean\u001b[22m\u001b[39m ± \u001b[32mσ\u001b[39m\u001b[90m):   \u001b[39m\u001b[32m\u001b[1m1.865 s\u001b[22m\u001b[39m ± \u001b[32m43.327 ms\u001b[39m  \u001b[90m┊\u001b[39m GC \u001b[90m(\u001b[39mmean ± σ\u001b[90m):  \u001b[39m0.75% ± 0.10%\n",
       "\n",
       "  \u001b[34m█\u001b[39m\u001b[39m \u001b[39m \u001b[39m \u001b[39m \u001b[39m \u001b[39m \u001b[39m \u001b[39m \u001b[39m \u001b[39m \u001b[39m \u001b[39m \u001b[39m \u001b[39m \u001b[39m \u001b[39m \u001b[39m \u001b[39m \u001b[39m \u001b[39m \u001b[39m \u001b[39m \u001b[39m█\u001b[39m \u001b[39m \u001b[39m \u001b[32m \u001b[39m\u001b[39m \u001b[39m \u001b[39m \u001b[39m \u001b[39m \u001b[39m \u001b[39m \u001b[39m \u001b[39m \u001b[39m \u001b[39m \u001b[39m \u001b[39m \u001b[39m \u001b[39m \u001b[39m \u001b[39m \u001b[39m \u001b[39m \u001b[39m \u001b[39m \u001b[39m \u001b[39m \u001b[39m \u001b[39m \u001b[39m \u001b[39m \u001b[39m \u001b[39m█\u001b[39m \u001b[39m \n",
       "  \u001b[34m█\u001b[39m\u001b[39m▁\u001b[39m▁\u001b[39m▁\u001b[39m▁\u001b[39m▁\u001b[39m▁\u001b[39m▁\u001b[39m▁\u001b[39m▁\u001b[39m▁\u001b[39m▁\u001b[39m▁\u001b[39m▁\u001b[39m▁\u001b[39m▁\u001b[39m▁\u001b[39m▁\u001b[39m▁\u001b[39m▁\u001b[39m▁\u001b[39m▁\u001b[39m▁\u001b[39m█\u001b[39m▁\u001b[39m▁\u001b[39m▁\u001b[32m▁\u001b[39m\u001b[39m▁\u001b[39m▁\u001b[39m▁\u001b[39m▁\u001b[39m▁\u001b[39m▁\u001b[39m▁\u001b[39m▁\u001b[39m▁\u001b[39m▁\u001b[39m▁\u001b[39m▁\u001b[39m▁\u001b[39m▁\u001b[39m▁\u001b[39m▁\u001b[39m▁\u001b[39m▁\u001b[39m▁\u001b[39m▁\u001b[39m▁\u001b[39m▁\u001b[39m▁\u001b[39m▁\u001b[39m▁\u001b[39m▁\u001b[39m▁\u001b[39m▁\u001b[39m█\u001b[39m \u001b[39m▁\n",
       "  1.82 s\u001b[90m         Histogram: frequency by time\u001b[39m        1.91 s \u001b[0m\u001b[1m<\u001b[22m\n",
       "\n",
       " Memory estimate\u001b[90m: \u001b[39m\u001b[33m312.40 MiB\u001b[39m, allocs estimate\u001b[90m: \u001b[39m\u001b[33m44575\u001b[39m."
      ]
     },
     "metadata": {},
     "output_type": "display_data"
    }
   ],
   "metadata": {}
  },
  {
   "cell_type": "markdown",
   "source": [
    "Being fair just runing the fortran code will not help a lot, next we will use a function that reads in the data from the Fortran code in a format that is easier to work with."
   ],
   "metadata": {}
  },
  {
   "cell_type": "code",
   "execution_count": 28,
   "source": [
    "function V_fun_Fortran2(prim::Primitives, res::Results)\n",
    "    @unpack r, w, b =res\n",
    "    # PS3/FortranCode/conesa_kueger.f90\n",
    "    # Compile Fortran code\n",
    "    path = \"/home/mitchv34/Work/2nd Year/ECON 899 (Computational Methods)/1st Quarter/Problem Sets/Shared Repo/Shared Repo/PS3/FortranCode/\"\n",
    "    run(`gfortran -fopenmp -O2 -o $(path)V_Fortran $(path)conesa_kueger.f90`)\n",
    "    # run(`./T_op $q $n_iter`)\n",
    "    run(`$(path)V_Fortran`)\n",
    "\n",
    "    results_raw =  readdlm(\"$(path)results.csv\");\n",
    "\n",
    "    val_fun = zeros(prim.nA, prim.nZ, prim.N_final)    # Initialize the value function\n",
    "    pol_fun = zeros(prim.nA, prim.nZ, prim.N_final)    # Initialize the policy function\n",
    "    pol_fun_ind = zeros(prim.nA, prim.nZ, prim.N_final + 1)    # Initialize the policy function index\n",
    "    consumption = zeros(prim.nA, prim.nZ, prim.N_final)    # Initialize the consumption function\n",
    "    l_fun = zeros(prim.nA, prim.nZ, prim.N_final)    # Initialize the labor policy function\n",
    "    for j in 1:prim.N_final\n",
    "        range_a = (j-1) * 2*prim.nA + 1 : j * 2*prim.nA |> collect\n",
    "        val_fun[:,:,j] = hcat(results_raw[range_a[1:prim.nA],end], results_raw[range_a[prim.nA+1:end],end])\n",
    "        pol_fun_ind[:,:,j] = hcat(results_raw[range_a[1:prim.nA],end-1], results_raw[range_a[prim.nA+1:end],end-1])\n",
    "        pol_fun[:,:,j] = hcat(results_raw[range_a[1:prim.nA],end-2], results_raw[range_a[prim.nA+1:end],end-2])\n",
    "        consumption[:,:,j]   = hcat(results_raw[range_a[1:prim.nA],end-3], results_raw[range_a[prim.nA+1:end],end-3])\n",
    "        l_fun[:,:,j] = hcat(results_raw[range_a[1:prim.nA],end-4], results_raw[range_a[prim.nA+1:end],end-4])\n",
    "    end\n",
    "    A_grid_fortran = results_raw[1:prim.nA,end-5]\n",
    "    res.val_fun = val_fun\n",
    "    res.pol_fun = pol_fun\n",
    "    res.pol_fun_ind = pol_fun_ind\n",
    "    res.l_fun = l_fun\n",
    "    return A_grid_fortran, consumption\n",
    "\n",
    "end # run_Fortran()\n"
   ],
   "outputs": [
    {
     "data": {
      "text/plain": [
       "V_fun_Fortran2 (generic function with 1 method)"
      ]
     },
     "metadata": {},
     "output_type": "display_data"
    }
   ],
   "metadata": {}
  },
  {
   "cell_type": "code",
   "execution_count": 34,
   "source": [
    "@benchmark begin\n",
    "    prim, res = Initialize()\n",
    "    V_fun_Fortran2(prim, res)\n",
    "end"
   ],
   "outputs": [
    {
     "data": {
      "text/plain": [
       "BenchmarkTools.Trial: 3 samples with 1 evaluation.\n",
       " Range \u001b[90m(\u001b[39m\u001b[36m\u001b[1mmin\u001b[22m\u001b[39m … \u001b[35mmax\u001b[39m\u001b[90m):  \u001b[39m\u001b[36m\u001b[1m1.882 s\u001b[22m\u001b[39m … \u001b[35m  1.955 s\u001b[39m  \u001b[90m┊\u001b[39m GC \u001b[90m(\u001b[39mmin … max\u001b[90m): \u001b[39m6.95% … 1.13%\n",
       " Time  \u001b[90m(\u001b[39m\u001b[34m\u001b[1mmedian\u001b[22m\u001b[39m\u001b[90m):     \u001b[39m\u001b[34m\u001b[1m1.917 s              \u001b[22m\u001b[39m\u001b[90m┊\u001b[39m GC \u001b[90m(\u001b[39mmedian\u001b[90m):    \u001b[39m1.15%\n",
       " Time  \u001b[90m(\u001b[39m\u001b[32m\u001b[1mmean\u001b[22m\u001b[39m ± \u001b[32mσ\u001b[39m\u001b[90m):   \u001b[39m\u001b[32m\u001b[1m1.918 s\u001b[22m\u001b[39m ± \u001b[32m36.259 ms\u001b[39m  \u001b[90m┊\u001b[39m GC \u001b[90m(\u001b[39mmean ± σ\u001b[90m):  \u001b[39m2.77% ± 3.61%\n",
       "\n",
       "  \u001b[34m█\u001b[39m\u001b[39m \u001b[39m \u001b[39m \u001b[39m \u001b[39m \u001b[39m \u001b[39m \u001b[39m \u001b[39m \u001b[39m \u001b[39m \u001b[39m \u001b[39m \u001b[39m \u001b[39m \u001b[39m \u001b[39m \u001b[39m \u001b[39m \u001b[39m \u001b[39m \u001b[39m \u001b[39m \u001b[39m \u001b[39m \u001b[39m \u001b[39m█\u001b[32m \u001b[39m\u001b[39m \u001b[39m \u001b[39m \u001b[39m \u001b[39m \u001b[39m \u001b[39m \u001b[39m \u001b[39m \u001b[39m \u001b[39m \u001b[39m \u001b[39m \u001b[39m \u001b[39m \u001b[39m \u001b[39m \u001b[39m \u001b[39m \u001b[39m \u001b[39m \u001b[39m \u001b[39m \u001b[39m \u001b[39m \u001b[39m \u001b[39m \u001b[39m█\u001b[39m \u001b[39m \n",
       "  \u001b[34m█\u001b[39m\u001b[39m▁\u001b[39m▁\u001b[39m▁\u001b[39m▁\u001b[39m▁\u001b[39m▁\u001b[39m▁\u001b[39m▁\u001b[39m▁\u001b[39m▁\u001b[39m▁\u001b[39m▁\u001b[39m▁\u001b[39m▁\u001b[39m▁\u001b[39m▁\u001b[39m▁\u001b[39m▁\u001b[39m▁\u001b[39m▁\u001b[39m▁\u001b[39m▁\u001b[39m▁\u001b[39m▁\u001b[39m▁\u001b[39m▁\u001b[39m█\u001b[32m▁\u001b[39m\u001b[39m▁\u001b[39m▁\u001b[39m▁\u001b[39m▁\u001b[39m▁\u001b[39m▁\u001b[39m▁\u001b[39m▁\u001b[39m▁\u001b[39m▁\u001b[39m▁\u001b[39m▁\u001b[39m▁\u001b[39m▁\u001b[39m▁\u001b[39m▁\u001b[39m▁\u001b[39m▁\u001b[39m▁\u001b[39m▁\u001b[39m▁\u001b[39m▁\u001b[39m▁\u001b[39m▁\u001b[39m▁\u001b[39m▁\u001b[39m▁\u001b[39m█\u001b[39m \u001b[39m▁\n",
       "  1.88 s\u001b[90m         Histogram: frequency by time\u001b[39m        1.95 s \u001b[0m\u001b[1m<\u001b[22m\n",
       "\n",
       " Memory estimate\u001b[90m: \u001b[39m\u001b[33m142.82 MiB\u001b[39m, allocs estimate\u001b[90m: \u001b[39m\u001b[33m3169629\u001b[39m."
      ]
     },
     "metadata": {},
     "output_type": "display_data"
    }
   ],
   "metadata": {}
  },
  {
   "cell_type": "markdown",
   "source": [
    "But Fortran code is actually doing more than just solving the Value Function. It also solves for the stationary distribution and the aggregate levels of capital and labor.\n",
    "\n",
    "Les's compare the results with a Julia code that does the same."
   ],
   "metadata": {}
  },
  {
   "cell_type": "code",
   "execution_count": 36,
   "source": [
    "@benchmark begin\n",
    "    prim, res = Initialize()\n",
    "    \n",
    "    V_ret(prim, res);\n",
    "    V_workers(prim, res);\n",
    "\n",
    "    SteadyStateDist(prim, res);\n",
    "\n",
    "    # calculate aggregate capital and labor\n",
    "    K = sum(res.F[:, :, :] .* prim.a_grid)\n",
    "    L = sum(res.F[:, :, :] .* res.l_fun) # Labor supply grid\n",
    "end"
   ],
   "outputs": [
    {
     "data": {
      "text/plain": [
       "BenchmarkTools.Trial: 2 samples with 1 evaluation.\n",
       " Range \u001b[90m(\u001b[39m\u001b[36m\u001b[1mmin\u001b[22m\u001b[39m … \u001b[35mmax\u001b[39m\u001b[90m):  \u001b[39m\u001b[36m\u001b[1m2.799 s\u001b[22m\u001b[39m … \u001b[35m  2.866 s\u001b[39m  \u001b[90m┊\u001b[39m GC \u001b[90m(\u001b[39mmin … max\u001b[90m): \u001b[39m2.75% … 2.89%\n",
       " Time  \u001b[90m(\u001b[39m\u001b[34m\u001b[1mmedian\u001b[22m\u001b[39m\u001b[90m):     \u001b[39m\u001b[34m\u001b[1m2.832 s              \u001b[22m\u001b[39m\u001b[90m┊\u001b[39m GC \u001b[90m(\u001b[39mmedian\u001b[90m):    \u001b[39m2.82%\n",
       " Time  \u001b[90m(\u001b[39m\u001b[32m\u001b[1mmean\u001b[22m\u001b[39m ± \u001b[32mσ\u001b[39m\u001b[90m):   \u001b[39m\u001b[32m\u001b[1m2.832 s\u001b[22m\u001b[39m ± \u001b[32m46.813 ms\u001b[39m  \u001b[90m┊\u001b[39m GC \u001b[90m(\u001b[39mmean ± σ\u001b[90m):  \u001b[39m2.82% ± 0.09%\n",
       "\n",
       "  \u001b[34m█\u001b[39m\u001b[39m \u001b[39m \u001b[39m \u001b[39m \u001b[39m \u001b[39m \u001b[39m \u001b[39m \u001b[39m \u001b[39m \u001b[39m \u001b[39m \u001b[39m \u001b[39m \u001b[39m \u001b[39m \u001b[39m \u001b[39m \u001b[39m \u001b[39m \u001b[39m \u001b[39m \u001b[39m \u001b[39m \u001b[39m \u001b[39m \u001b[39m \u001b[32m \u001b[39m\u001b[39m \u001b[39m \u001b[39m \u001b[39m \u001b[39m \u001b[39m \u001b[39m \u001b[39m \u001b[39m \u001b[39m \u001b[39m \u001b[39m \u001b[39m \u001b[39m \u001b[39m \u001b[39m \u001b[39m \u001b[39m \u001b[39m \u001b[39m \u001b[39m \u001b[39m \u001b[39m \u001b[39m \u001b[39m \u001b[39m \u001b[39m \u001b[39m█\u001b[39m \u001b[39m \n",
       "  \u001b[34m█\u001b[39m\u001b[39m▁\u001b[39m▁\u001b[39m▁\u001b[39m▁\u001b[39m▁\u001b[39m▁\u001b[39m▁\u001b[39m▁\u001b[39m▁\u001b[39m▁\u001b[39m▁\u001b[39m▁\u001b[39m▁\u001b[39m▁\u001b[39m▁\u001b[39m▁\u001b[39m▁\u001b[39m▁\u001b[39m▁\u001b[39m▁\u001b[39m▁\u001b[39m▁\u001b[39m▁\u001b[39m▁\u001b[39m▁\u001b[39m▁\u001b[39m▁\u001b[32m▁\u001b[39m\u001b[39m▁\u001b[39m▁\u001b[39m▁\u001b[39m▁\u001b[39m▁\u001b[39m▁\u001b[39m▁\u001b[39m▁\u001b[39m▁\u001b[39m▁\u001b[39m▁\u001b[39m▁\u001b[39m▁\u001b[39m▁\u001b[39m▁\u001b[39m▁\u001b[39m▁\u001b[39m▁\u001b[39m▁\u001b[39m▁\u001b[39m▁\u001b[39m▁\u001b[39m▁\u001b[39m▁\u001b[39m▁\u001b[39m▁\u001b[39m▁\u001b[39m█\u001b[39m \u001b[39m▁\n",
       "  2.8 s\u001b[90m          Histogram: frequency by time\u001b[39m        2.87 s \u001b[0m\u001b[1m<\u001b[22m\n",
       "\n",
       " Memory estimate\u001b[90m: \u001b[39m\u001b[33m1.33 GiB\u001b[39m, allocs estimate\u001b[90m: \u001b[39m\u001b[33m1925921\u001b[39m."
      ]
     },
     "metadata": {},
     "output_type": "display_data"
    }
   ],
   "metadata": {}
  },
  {
   "cell_type": "markdown",
   "source": [
    "This means that we can use Fortran to solve the model usign Fortran just with the aggreates which will reduce the computational load of reading in the data."
   ],
   "metadata": {}
  },
  {
   "cell_type": "code",
   "execution_count": 42,
   "source": [
    "function solve_model_Fortran(prim, res; λ::Float64=0.7, tol::Float64=1e-2, err::Float64=100.0)\n",
    "    prim, res= Initialize()\n",
    "    @unpack w_mkt, r_mkt, b_mkt, J_R, a_grid = prim\n",
    "    path = \"/home/mitchv34/Work/2nd Year/ECON 899 (Computational Methods)/1st Quarter/Problem Sets/Shared Repo/Shared Repo/PS3/FortranCode/\"\n",
    "    \n",
    "    n = 0 # loop counter\n",
    "    while err > tol\n",
    "\n",
    "        # calculate prices and payments at current K, L, and F\n",
    "        res.r = r_mkt(res.K, res.L)\n",
    "        res.w = w_mkt(res.K, res.L)\n",
    "        res.b = b_mkt(res.L, res.w, sum(res.μ[J_R:end]))\n",
    "\n",
    "        run(`gfortran -fopenmp -O2 -o $(path)V_Fortran $(path)conesa_kueger.f90`)\n",
    "        # run(`./T_op $q $n_iter`)\n",
    "        run(`$(path)V_Fortran $0 $(res.r) $(res.w) $(res.b)`)\n",
    "\n",
    "        K, L = readdlm(\"$(path)agg_results.csv\");\n",
    "\n",
    "        # calculate error\n",
    "        err = maximum(abs.([res.K, res.L] - [K, L]))\n",
    "\n",
    "        if (err > tol*10)\n",
    "            # Leave λ at the default\n",
    "        elseif (err > tol*5) & (λ <= 0.85)\n",
    "            λ = 0.85\n",
    "        elseif (err > tol*1.01) & (λ <= 0.90)\n",
    "            λ = 0.90\n",
    "        elseif λ <= 0.95\n",
    "            λ = 0.95\n",
    "        end\n",
    "\n",
    "        # update guess\n",
    "        res.K = (1-λ)*K + λ*res.K\n",
    "        res.L = (1-λ)*L + λ*res.L\n",
    "\n",
    "        n+=1\n",
    "\n",
    "        println(\"$n iterations; err = $err, K = \", round(res.K, digits = 4), \", L = \",\n",
    "        round(res.L, digits = 4), \", λ = $λ\")\n",
    "\n",
    "    end # while err > tol\n",
    "    # return prim, res\n",
    "end"
   ],
   "outputs": [
    {
     "data": {
      "text/plain": [
       "solve_model_Fortran (generic function with 1 method)"
      ]
     },
     "metadata": {},
     "output_type": "display_data"
    }
   ],
   "metadata": {}
  },
  {
   "cell_type": "code",
   "execution_count": 47,
   "source": [
    "@time begin\n",
    "    prim, res = Initialize()\n",
    "    solve_model_Fortran(prim, res);\n",
    "end"
   ],
   "outputs": [
    {
     "output_type": "stream",
     "name": "stdout",
     "text": [
      "1 iterations; err = 1.853654283196522, K = 4.5561, L = 0.7164, λ = 0.7\n"
     ]
    },
    {
     "output_type": "stream",
     "name": "stdout",
     "text": [
      "2 iterations; err = 0.628222627598225, K = 4.3676, L = 0.5981, λ = 0.7\n"
     ]
    },
    {
     "output_type": "stream",
     "name": "stdout",
     "text": [
      "3 iterations; err = 0.7490854426911806, K = 4.1429, L = 0.5175, λ = 0.7\n"
     ]
    },
    {
     "output_type": "stream",
     "name": "stdout",
     "text": [
      "4 iterations; err = 0.6394546435929285, K = 3.9511, L = 0.4625, λ = 0.7\n"
     ]
    },
    {
     "output_type": "stream",
     "name": "stdout",
     "text": [
      "5 iterations; err = 0.5252353649988502, K = 3.7935, L = 0.4248, λ = 0.7\n"
     ]
    },
    {
     "output_type": "stream",
     "name": "stdout",
     "text": [
      "6 iterations; err = 0.39666691660967324, K = 3.6745, L = 0.3991, λ = 0.7\n"
     ]
    },
    {
     "output_type": "stream",
     "name": "stdout",
     "text": [
      "7 iterations; err = 0.29359646814189544, K = 3.5864, L = 0.3815, λ = 0.7\n"
     ]
    },
    {
     "output_type": "stream",
     "name": "stdout",
     "text": [
      "8 iterations; err = 0.21407905080393608, K = 3.5222, L = 0.3695, λ = 0.7\n"
     ]
    },
    {
     "output_type": "stream",
     "name": "stdout",
     "text": [
      "9 iterations; err = 0.15419735072324903, K = 3.4759, L = 0.3612, λ = 0.7\n"
     ]
    },
    {
     "output_type": "stream",
     "name": "stdout",
     "text": [
      "10 iterations; err = 0.11656975646133416, K = 3.441, L = 0.3556, λ = 0.7\n"
     ]
    },
    {
     "output_type": "stream",
     "name": "stdout",
     "text": [
      "11 iterations; err = 0.07834938237442968, K = 3.4292, L = 0.3537, λ = 0.85\n"
     ]
    },
    {
     "output_type": "stream",
     "name": "stdout",
     "text": [
      "12 iterations; err = 0.06733148735338235, K = 3.4191, L = 0.352, λ = 0.85\n"
     ]
    },
    {
     "output_type": "stream",
     "name": "stdout",
     "text": [
      "13 iterations; err = 0.05741369700356236, K = 3.4105, L = 0.3506, λ = 0.85\n"
     ]
    },
    {
     "output_type": "stream",
     "name": "stdout",
     "text": [
      "14 iterations; err = 0.04806313110832816, K = 3.4057, L = 0.3499, λ = 0.9\n"
     ]
    },
    {
     "output_type": "stream",
     "name": "stdout",
     "text": [
      "15 iterations; err = 0.04283516602035853, K = 3.4014, L = 0.3492, λ = 0.9\n"
     ]
    },
    {
     "output_type": "stream",
     "name": "stdout",
     "text": [
      "16 iterations; err = 0.038778460525281666, K = 3.3975, L = 0.3486, λ = 0.9\n"
     ]
    },
    {
     "output_type": "stream",
     "name": "stdout",
     "text": [
      "17 iterations; err = 0.03493051684980175, K = 3.394, L = 0.348, λ = 0.9\n"
     ]
    },
    {
     "output_type": "stream",
     "name": "stdout",
     "text": [
      "18 iterations; err = 0.031047594362970443, K = 3.3909, L = 0.3475, λ = 0.9\n"
     ]
    },
    {
     "output_type": "stream",
     "name": "stdout",
     "text": [
      "19 iterations; err = 0.02785262599422067, K = 3.3881, L = 0.3471, λ = 0.9\n"
     ]
    },
    {
     "output_type": "stream",
     "name": "stdout",
     "text": [
      "20 iterations; err = 0.025149609438808618, K = 3.3856, L = 0.3467, λ = 0.9\n"
     ]
    },
    {
     "output_type": "stream",
     "name": "stdout",
     "text": [
      "21 iterations; err = 0.022751006757098846, K = 3.3834, L = 0.3463, λ = 0.9\n"
     ]
    },
    {
     "output_type": "stream",
     "name": "stdout",
     "text": [
      "22 iterations; err = 0.020527959303886956, K = 3.3813, L = 0.346, λ = 0.9\n"
     ]
    },
    {
     "output_type": "stream",
     "name": "stdout",
     "text": [
      "23 iterations; err = 0.01845025031883818, K = 3.3795, L = 0.3457, λ = 0.9\n"
     ]
    },
    {
     "output_type": "stream",
     "name": "stdout",
     "text": [
      "24 iterations; err = 0.01589216569091123, K = 3.3779, L = 0.3454, λ = 0.9\n"
     ]
    },
    {
     "output_type": "stream",
     "name": "stdout",
     "text": [
      "25 iterations; err = 0.014489272438640288, K = 3.3764, L = 0.3452, λ = 0.9\n"
     ]
    },
    {
     "output_type": "stream",
     "name": "stdout",
     "text": [
      "26 iterations; err = 0.013008477086864367, K = 3.3751, L = 0.345, λ = 0.9\n"
     ]
    },
    {
     "output_type": "stream",
     "name": "stdout",
     "text": [
      "27 iterations; err = 0.011832110795989781, K = 3.3739, L = 0.3448, λ = 0.9\n"
     ]
    },
    {
     "output_type": "stream",
     "name": "stdout",
     "text": [
      "28 iterations; err = 0.010596875039666998, K = 3.3729, L = 0.3447, λ = 0.9\n"
     ]
    },
    {
     "output_type": "stream",
     "name": "stdout",
     "text": [
      "29 iterations; err = 0.00958704319094128, K = 3.3724, L = 0.3446, λ = 0.95\n",
      " 46.302382 seconds (14.30 k allocations: 6.037 MiB, 0.03% gc time)\n"
     ]
    }
   ],
   "metadata": {}
  },
  {
   "cell_type": "markdown",
   "source": [
    "Compared with the same code using Julia functions:"
   ],
   "metadata": {}
  },
  {
   "cell_type": "code",
   "execution_count": 45,
   "source": [
    "function MarketClearing_Julia(prim, res, λ::Float64=0.7, tol::Float64=1e-2, err::Float64=100.0)\n",
    "\n",
    "    # unpack relevant variables and functions\n",
    "    @unpack w_mkt, r_mkt, b_mkt, J_R, a_grid = prim\n",
    "\n",
    "    n = 0 # loop counter\n",
    "\n",
    "    # iteratively solve the model until excess savings converge to zero\n",
    "    while err > tol\n",
    "\n",
    "        # calculate prices and payments at current K, L, and F\n",
    "        res.r = r_mkt(res.K, res.L)\n",
    "        res.w = w_mkt(res.K, res.L)\n",
    "        res.b = b_mkt(res.L, res.w, sum(res.μ[J_R:end]))\n",
    "\n",
    "        # solve model with current model and payments\n",
    "    \n",
    "        V_ret(prim, res);\n",
    "        V_workers(prim, res);\n",
    "\n",
    "        SteadyStateDist(prim, res);\n",
    "\n",
    "        # calculate aggregate capital and labor\n",
    "        K = sum(res.F[:, :, :] .* a_grid)\n",
    "        L = sum(res.F[:, :, :] .* res.l_fun) # Labor supply grid\n",
    "\n",
    "        # calculate error\n",
    "        err = maximum(abs.([res.K, res.L] - [K, L]))\n",
    "\n",
    "        if (err > tol*10)\n",
    "            # Leave λ at the default\n",
    "        elseif (err > tol*5) & (λ <= 0.85)\n",
    "            λ = 0.85\n",
    "        elseif (err > tol*1.01) & (λ <= 0.90)\n",
    "            λ = 0.90\n",
    "        elseif λ <= 0.95\n",
    "            λ = 0.95\n",
    "        end\n",
    "\n",
    "        # update guess\n",
    "        res.K = (1-λ)*K + λ*res.K\n",
    "        res.L = (1-λ)*L + λ*res.L\n",
    "\n",
    "        n+=1\n",
    "\n",
    "        println(\"$n iterations; err = $err, K = \", round(res.K, digits = 4), \", L = \",\n",
    "        round(res.L, digits = 4), \", λ = $λ\")\n",
    "\n",
    "    end # while err > tol\n",
    "    # return prim, res\n",
    "end # MarketClearing"
   ],
   "outputs": [
    {
     "data": {
      "text/plain": [
       "MarketClearing_Julia (generic function with 4 methods)"
      ]
     },
     "metadata": {},
     "output_type": "display_data"
    }
   ],
   "metadata": {}
  },
  {
   "cell_type": "code",
   "execution_count": 48,
   "source": [
    "@time begin\n",
    "    prim, res = Initialize()\n",
    "    solve_model_Fortran(prim, res);\n",
    "end"
   ],
   "outputs": [
    {
     "output_type": "stream",
     "name": "stdout",
     "text": [
      "1 iterations; err = 1.853654283196522, K = 4.5561, L = 0.7164, λ = 0.7\n"
     ]
    },
    {
     "output_type": "stream",
     "name": "stdout",
     "text": [
      "2 iterations; err = 0.628222627598225, K = 4.3676, L = 0.5981, λ = 0.7\n"
     ]
    },
    {
     "output_type": "stream",
     "name": "stdout",
     "text": [
      "3 iterations; err = 0.7490854426911806, K = 4.1429, L = 0.5175, λ = 0.7\n"
     ]
    },
    {
     "output_type": "stream",
     "name": "stdout",
     "text": [
      "4 iterations; err = 0.6394546435929285, K = 3.9511, L = 0.4625, λ = 0.7\n"
     ]
    },
    {
     "output_type": "stream",
     "name": "stdout",
     "text": [
      "5 iterations; err = 0.5252353649988502, K = 3.7935, L = 0.4248, λ = 0.7\n"
     ]
    },
    {
     "output_type": "stream",
     "name": "stdout",
     "text": [
      "6 iterations; err = 0.39666691660967324, K = 3.6745, L = 0.3991, λ = 0.7\n"
     ]
    },
    {
     "output_type": "stream",
     "name": "stdout",
     "text": [
      "7 iterations; err = 0.29359646814189544, K = 3.5864, L = 0.3815, λ = 0.7\n"
     ]
    },
    {
     "output_type": "stream",
     "name": "stdout",
     "text": [
      "8 iterations; err = 0.21407905080393608, K = 3.5222, L = 0.3695, λ = 0.7\n"
     ]
    },
    {
     "output_type": "stream",
     "name": "stdout",
     "text": [
      "9 iterations; err = 0.15419735072324903, K = 3.4759, L = 0.3612, λ = 0.7\n"
     ]
    },
    {
     "output_type": "stream",
     "name": "stdout",
     "text": [
      "10 iterations; err = 0.11656975646133416, K = 3.441, L = 0.3556, λ = 0.7\n"
     ]
    },
    {
     "output_type": "stream",
     "name": "stdout",
     "text": [
      "11 iterations; err = 0.07834938237442968, K = 3.4292, L = 0.3537, λ = 0.85\n"
     ]
    },
    {
     "output_type": "stream",
     "name": "stdout",
     "text": [
      "12 iterations; err = 0.06733148735338235, K = 3.4191, L = 0.352, λ = 0.85\n"
     ]
    },
    {
     "output_type": "stream",
     "name": "stdout",
     "text": [
      "13 iterations; err = 0.05741369700356236, K = 3.4105, L = 0.3506, λ = 0.85\n"
     ]
    },
    {
     "output_type": "stream",
     "name": "stdout",
     "text": [
      "14 iterations; err = 0.04806313110832816, K = 3.4057, L = 0.3499, λ = 0.9\n"
     ]
    },
    {
     "output_type": "stream",
     "name": "stdout",
     "text": [
      "15 iterations; err = 0.04283516602035853, K = 3.4014, L = 0.3492, λ = 0.9\n"
     ]
    },
    {
     "output_type": "stream",
     "name": "stdout",
     "text": [
      "16 iterations; err = 0.038778460525281666, K = 3.3975, L = 0.3486, λ = 0.9\n"
     ]
    },
    {
     "output_type": "stream",
     "name": "stdout",
     "text": [
      "17 iterations; err = 0.03493051684980175, K = 3.394, L = 0.348, λ = 0.9\n"
     ]
    },
    {
     "output_type": "stream",
     "name": "stdout",
     "text": [
      "18 iterations; err = 0.031047594362970443, K = 3.3909, L = 0.3475, λ = 0.9\n"
     ]
    },
    {
     "output_type": "stream",
     "name": "stdout",
     "text": [
      "19 iterations; err = 0.02785262599422067, K = 3.3881, L = 0.3471, λ = 0.9\n"
     ]
    },
    {
     "output_type": "stream",
     "name": "stdout",
     "text": [
      "20 iterations; err = 0.025149609438808618, K = 3.3856, L = 0.3467, λ = 0.9\n"
     ]
    },
    {
     "output_type": "stream",
     "name": "stdout",
     "text": [
      "21 iterations; err = 0.022751006757098846, K = 3.3834, L = 0.3463, λ = 0.9\n"
     ]
    },
    {
     "output_type": "stream",
     "name": "stdout",
     "text": [
      "22 iterations; err = 0.020527959303886956, K = 3.3813, L = 0.346, λ = 0.9\n"
     ]
    },
    {
     "output_type": "stream",
     "name": "stdout",
     "text": [
      "23 iterations; err = 0.01845025031883818, K = 3.3795, L = 0.3457, λ = 0.9\n"
     ]
    },
    {
     "output_type": "stream",
     "name": "stdout",
     "text": [
      "24 iterations; err = 0.01589216569091123, K = 3.3779, L = 0.3454, λ = 0.9\n"
     ]
    },
    {
     "output_type": "stream",
     "name": "stdout",
     "text": [
      "25 iterations; err = 0.014489272438640288, K = 3.3764, L = 0.3452, λ = 0.9\n"
     ]
    },
    {
     "output_type": "stream",
     "name": "stdout",
     "text": [
      "26 iterations; err = 0.013008477086864367, K = 3.3751, L = 0.345, λ = 0.9\n"
     ]
    },
    {
     "output_type": "stream",
     "name": "stdout",
     "text": [
      "27 iterations; err = 0.011832110795989781, K = 3.3739, L = 0.3448, λ = 0.9\n"
     ]
    },
    {
     "output_type": "stream",
     "name": "stdout",
     "text": [
      "28 iterations; err = 0.010596875039666998, K = 3.3729, L = 0.3447, λ = 0.9\n"
     ]
    },
    {
     "output_type": "stream",
     "name": "stdout",
     "text": [
      "29 iterations; err = 0.00958704319094128, K = 3.3724, L = 0.3446, λ = 0.95\n",
      " 46.064710 seconds (14.26 k allocations: 6.034 MiB)\n"
     ]
    }
   ],
   "metadata": {}
  },
  {
   "cell_type": "markdown",
   "source": [
    "We can see that both converge in the same number of iterations to the same solution at virtually the same speed."
   ],
   "metadata": {}
  },
  {
   "cell_type": "markdown",
   "source": [
    "Finally we will use Fortran to solve the model completely."
   ],
   "metadata": {}
  },
  {
   "cell_type": "code",
   "execution_count": 52,
   "source": [
    "function Fortran_sove_the_whole_thing()\n",
    "    path = \"/home/mitchv34/Work/2nd Year/ECON 899 (Computational Methods)/1st Quarter/Problem Sets/Shared Repo/Shared Repo/PS3/FortranCode/\"\n",
    "    run(`gfortran -fopenmp -O2 -o $(path)V_Fortran $(path)conesa_kueger.f90`)\n",
    "    # run(`./T_op $q $n_iter`)\n",
    "    run(`$(path)V_Fortran $1 $4 $0.9`)\n",
    "\n",
    "    results_raw =  readdlm(\"$(path)results.csv\");\n",
    "\n",
    "    val_fun = zeros(prim.nA, prim.nZ, prim.N_final)    # Initialize the value function\n",
    "    pol_fun = zeros(prim.nA, prim.nZ, prim.N_final)    # Initialize the policy function\n",
    "    pol_fun_ind = zeros(prim.nA, prim.nZ, prim.N_final + 1)    # Initialize the policy function index\n",
    "    consumption = zeros(prim.nA, prim.nZ, prim.N_final)    # Initialize the consumption function\n",
    "    l_fun = zeros(prim.nA, prim.nZ, prim.N_final)    # Initialize the labor policy function\n",
    "    for j in 1:prim.N_final\n",
    "        range_a = (j-1) * 2*prim.nA + 1 : j * 2*prim.nA |> collect\n",
    "        val_fun[:,:,j] = hcat(results_raw[range_a[1:prim.nA],end], results_raw[range_a[prim.nA+1:end],end])\n",
    "        pol_fun_ind[:,:,j] = hcat(results_raw[range_a[1:prim.nA],end-1], results_raw[range_a[prim.nA+1:end],end-1])\n",
    "        pol_fun[:,:,j] = hcat(results_raw[range_a[1:prim.nA],end-2], results_raw[range_a[prim.nA+1:end],end-2])\n",
    "        consumption[:,:,j]   = hcat(results_raw[range_a[1:prim.nA],end-3], results_raw[range_a[prim.nA+1:end],end-3])\n",
    "        l_fun[:,:,j] = hcat(results_raw[range_a[1:prim.nA],end-4], results_raw[range_a[prim.nA+1:end],end-4])\n",
    "    end\n",
    "    A_grid_fortran = results_raw[1:prim.nA,end-5]\n",
    "    res.val_fun = val_fun\n",
    "    res.pol_fun = pol_fun\n",
    "    res.pol_fun_ind = pol_fun_ind\n",
    "    res.l_fun = l_fun\n",
    "\n",
    "    return nothing\n",
    "end "
   ],
   "outputs": [
    {
     "data": {
      "text/plain": [
       "Fortran_sove_the_whole_thing (generic function with 1 method)"
      ]
     },
     "metadata": {},
     "output_type": "display_data"
    }
   ],
   "metadata": {}
  },
  {
   "cell_type": "code",
   "execution_count": 54,
   "source": [
    "@time begin\n",
    "    Fortran_sove_the_whole_thing();\n",
    "end"
   ],
   "outputs": [
    {
     "output_type": "stream",
     "name": "stdout",
     "text": [
      " Iteration:           0 ERR=   1.9040204465183033      K=   4.2856030215823608      L=  0.80821288785858592      LAMBDA=  0.85000002384185791     \n"
     ]
    },
    {
     "output_type": "stream",
     "name": "stdout",
     "text": [
      " Iteration:           1 ERR=   1.0099861783401369      K=   4.4371009242534347      L=  0.73361572785500595      LAMBDA=  0.85000002384185791     \n"
     ]
    },
    {
     "output_type": "stream",
     "name": "stdout",
     "text": [
      " Iteration:           2 ERR=  0.42798928423478255      K=   4.5012993066845919      L=  0.67234078960674060      LAMBDA=  0.85000002384185791     \n"
     ]
    },
    {
     "output_type": "stream",
     "name": "stdout",
     "text": [
      " Iteration:           3 ERR=  0.33920737965243147      K=   4.5304648847239344      L=  0.62145969074621010      LAMBDA=  0.85000002384185791     \n"
     ]
    },
    {
     "output_type": "stream",
     "name": "stdout",
     "text": [
      " Iteration:           4 ERR=  0.28289431902224044      K=   4.5308357670169617      L=  0.57902554963760022      LAMBDA=  0.85000002384185791     \n"
     ]
    },
    {
     "output_type": "stream",
     "name": "stdout",
     "text": [
      " Iteration:           5 ERR=  0.23569706986203343      K=   4.5174741018390527      L=  0.54367099477775127      LAMBDA=  0.85000002384185791     \n"
     ]
    },
    {
     "output_type": "stream",
     "name": "stdout",
     "text": [
      " Iteration:           6 ERR=  0.19692534421772662      K=   4.4948240412565621      L=  0.51413219784015840      LAMBDA=  0.85000002384185791     \n"
     ]
    },
    {
     "output_type": "stream",
     "name": "stdout",
     "text": [
      " Iteration:           7 ERR=  0.18453722564133113      K=   4.4671434618100729      L=  0.48943985373748833      LAMBDA=  0.85000002384185791     \n"
     ]
    },
    {
     "output_type": "stream",
     "name": "stdout",
     "text": [
      " Iteration:           8 ERR=  0.19222130238274460      K=   4.4383102710355740      L=  0.46877368147745607      LAMBDA=  0.85000002384185791     \n"
     ]
    },
    {
     "output_type": "stream",
     "name": "stdout",
     "text": [
      " Iteration:           9 ERR=  0.20022151062164184      K=   4.4082770492159806      L=  0.45144976616503224      LAMBDA=  0.85000002384185791     \n"
     ]
    },
    {
     "output_type": "stream",
     "name": "stdout",
     "text": [
      " Iteration:          10 ERR=  0.18864153332136269      K=   4.3799808237153410      L=  0.43695496521219507      LAMBDA=  0.85000002384185791     \n"
     ]
    },
    {
     "output_type": "stream",
     "name": "stdout",
     "text": [
      " Iteration:          11 ERR=  0.18507281545369825      K=   4.3522199058097657      L=  0.42479761836536156      LAMBDA=  0.85000002384185791     \n"
     ]
    },
    {
     "output_type": "stream",
     "name": "stdout",
     "text": [
      " Iteration:          12 ERR=  0.15743349619959623      K=   4.3286048851333332      L=  0.41461844342526361      LAMBDA=  0.85000002384185791     \n"
     ]
    },
    {
     "output_type": "stream",
     "name": "stdout",
     "text": [
      " Iteration:          13 ERR=  0.14849255370031145      K=   4.3063310056186248      L=  0.40607666746699228      LAMBDA=  0.85000002384185791     \n"
     ]
    },
    {
     "output_type": "stream",
     "name": "stdout",
     "text": [
      " Iteration:          14 ERR=  0.12492295332510128      K=   4.2875925655982554      L=  0.39893407149173404      LAMBDA=  0.85000002384185791     \n"
     ]
    },
    {
     "output_type": "stream",
     "name": "stdout",
     "text": [
      " Iteration:          15 ERR=  0.11476719629930709      K=   4.2703774888896220      L=  0.39294224267973626      LAMBDA=  0.85000002384185791     \n"
     ]
    },
    {
     "output_type": "stream",
     "name": "stdout",
     "text": [
      " Iteration:          16 ERR=  0.10370603783454690      K=   4.2548215856869849      L=  0.38791750986416057      LAMBDA=  0.85000002384185791     \n"
     ]
    },
    {
     "output_type": "stream",
     "name": "stdout",
     "text": [
      " Iteration:          17 ERR=   8.4965291911740515E-002 K=   4.2420767939259543      L=  0.38372762476537414      LAMBDA=  0.85000002384185791     \n"
     ]
    },
    {
     "output_type": "stream",
     "name": "stdout",
     "text": [
      " Iteration:          18 ERR=   7.7219590550297035E-002 K=   4.2304938571844684      L=  0.38020776577883691      LAMBDA=  0.85000002384185791     \n"
     ]
    },
    {
     "output_type": "stream",
     "name": "stdout",
     "text": [
      " Iteration:          19 ERR=   5.7853087478218157E-002 K=   4.2218158954420613      L=  0.37727664818335488      LAMBDA=  0.85000002384185791     \n"
     ]
    },
    {
     "output_type": "stream",
     "name": "stdout",
     "text": [
      " Iteration:          20 ERR=   5.1686047433292970E-002 K=   4.2140629895593591      L=  0.37481734600466499      LAMBDA=  0.85000002384185791     \n"
     ]
    },
    {
     "output_type": "stream",
     "name": "stdout",
     "text": [
      " Iteration:          21 ERR=   4.2919769740304758E-002 K=   4.2097710115620419      L=  0.37345499680719380      LAMBDA=  0.89999997615814209     \n"
     ]
    },
    {
     "output_type": "stream",
     "name": "stdout",
     "text": [
      " Iteration:          22 ERR=   3.8275399284274592E-002 K=   4.2059434707210581      L=  0.37224060968198430      LAMBDA=  0.89999997615814209     \n"
     ]
    },
    {
     "output_type": "stream",
     "name": "stdout",
     "text": [
      " Iteration:          23 ERR=   3.4616022613914055E-002 K=   4.2024818676343560      L=  0.37115775932448880      LAMBDA=  0.89999997615814209     \n"
     ]
    },
    {
     "output_type": "stream",
     "name": "stdout",
     "text": [
      " Iteration:          24 ERR=   2.8031696877328649E-002 K=   4.1996786972782951      L=  0.37020631277651050      LAMBDA=  0.89999997615814209     \n"
     ]
    },
    {
     "output_type": "stream",
     "name": "stdout",
     "text": [
      " Iteration:          25 ERR=   2.5190848753730677E-002 K=   4.1971596118023253      L=  0.36935816934804000      LAMBDA=  0.89999997615814209     \n"
     ]
    },
    {
     "output_type": "stream",
     "name": "stdout",
     "text": [
      " Iteration:          26 ERR=   2.2183401568691252E-002 K=   4.1949412711165630      L=  0.36860219259034466      LAMBDA=  0.89999997615814209     \n"
     ]
    },
    {
     "output_type": "stream",
     "name": "stdout",
     "text": [
      " Iteration:          27 ERR=   1.9412719170563086E-002 K=   4.1929999987366715      L=  0.36792770016824189      LAMBDA=  0.89999997615814209     \n"
     ]
    },
    {
     "output_type": "stream",
     "name": "stdout",
     "text": [
      " Iteration:          28 ERR=   1.7795482906533877E-002 K=   4.1912204500217403      L=  0.36732539295246452      LAMBDA=  0.89999997615814209     \n"
     ]
    },
    {
     "output_type": "stream",
     "name": "stdout",
     "text": [
      " Iteration:          29 ERR=   1.6398700802177757E-002 K=   4.1895805795505474      L=  0.36678758420362323      LAMBDA=  0.89999997615814209     \n"
     ]
    },
    {
     "output_type": "stream",
     "name": "stdout",
     "text": [
      " Iteration:          30 ERR=   5.2032612827401792E-003 K=   4.1893204164243825      L=  0.36655609161406699      LAMBDA=  0.94999998807907104     \n",
      " Total elapsed time =    7.99200010      seconds\n"
     ]
    },
    {
     "output_type": "stream",
     "name": "stdout",
     "text": [
      "  9.812714 seconds (3.18 M allocations: 141.008 MiB, 0.09% gc time)\n"
     ]
    },
    {
     "data": {
      "text/plain": [
       "1000×2×66 Array{Float64, 3}:\n",
       "[:, :, 1] =\n",
       " 1.07313  0.125839\n",
       " 1.07263  0.0935282\n",
       " 1.07213  0.0930274\n",
       " 1.07163  0.0925267\n",
       " 1.07113  0.0920259\n",
       " 1.07063  0.0597153\n",
       " 1.03832  0.0592145\n",
       " 1.03782  0.0587138\n",
       " 1.03732  0.058213\n",
       " 1.03681  0.0577122\n",
       " ⋮        \n",
       " 0.0      0.0\n",
       " 0.0      0.0\n",
       " 0.0      0.0\n",
       " 0.0      0.0\n",
       " 0.0      0.0\n",
       " 0.0      0.0\n",
       " 0.0      0.0\n",
       " 0.0      0.0\n",
       " 0.0      0.0\n",
       "\n",
       "[:, :, 2] =\n",
       " 1.15486  0.134159\n",
       " 1.15436  0.101848\n",
       " 1.15386  0.101347\n",
       " 1.15336  0.100847\n",
       " 1.15286  0.100346\n",
       " 1.15236  0.0680352\n",
       " 1.15186  0.0675344\n",
       " 1.11955  0.0670337\n",
       " 1.11904  0.0665329\n",
       " 1.11854  0.0660322\n",
       " ⋮        \n",
       " 0.0      0.0\n",
       " 0.0      0.0\n",
       " 0.0      0.0\n",
       " 0.0      0.0\n",
       " 0.0      0.0\n",
       " 0.0      0.0\n",
       " 0.0      0.0\n",
       " 0.0      0.0\n",
       " 0.0      0.0\n",
       "\n",
       "[:, :, 3] =\n",
       " 1.23659  0.142479\n",
       " 1.23609  0.110168\n",
       " 1.23559  0.109667\n",
       " 1.23509  0.109167\n",
       " 1.23459  0.108666\n",
       " 1.23409  0.0763551\n",
       " 1.23359  0.0758544\n",
       " 1.23308  0.0753536\n",
       " 1.23258  0.0748528\n",
       " 1.23208  0.0743521\n",
       " ⋮        \n",
       " 0.0      0.0\n",
       " 0.0      0.0\n",
       " 0.0      0.0\n",
       " 0.0      0.0\n",
       " 0.0      0.0\n",
       " 0.0      0.0\n",
       " 0.0      0.0\n",
       " 0.0      0.0\n",
       " 0.0      0.0\n",
       "\n",
       "...\n",
       "\n",
       "[:, :, 64] =\n",
       " 0.0  0.0\n",
       " 0.0  0.0\n",
       " 0.0  0.0\n",
       " 0.0  0.0\n",
       " 0.0  0.0\n",
       " 0.0  0.0\n",
       " 0.0  0.0\n",
       " 0.0  0.0\n",
       " 0.0  0.0\n",
       " 0.0  0.0\n",
       " ⋮    \n",
       " 0.0  0.0\n",
       " 0.0  0.0\n",
       " 0.0  0.0\n",
       " 0.0  0.0\n",
       " 0.0  0.0\n",
       " 0.0  0.0\n",
       " 0.0  0.0\n",
       " 0.0  0.0\n",
       " 0.0  0.0\n",
       "\n",
       "[:, :, 65] =\n",
       " 0.0  0.0\n",
       " 0.0  0.0\n",
       " 0.0  0.0\n",
       " 0.0  0.0\n",
       " 0.0  0.0\n",
       " 0.0  0.0\n",
       " 0.0  0.0\n",
       " 0.0  0.0\n",
       " 0.0  0.0\n",
       " 0.0  0.0\n",
       " ⋮    \n",
       " 0.0  0.0\n",
       " 0.0  0.0\n",
       " 0.0  0.0\n",
       " 0.0  0.0\n",
       " 0.0  0.0\n",
       " 0.0  0.0\n",
       " 0.0  0.0\n",
       " 0.0  0.0\n",
       " 0.0  0.0\n",
       "\n",
       "[:, :, 66] =\n",
       " 0.0  0.0\n",
       " 0.0  0.0\n",
       " 0.0  0.0\n",
       " 0.0  0.0\n",
       " 0.0  0.0\n",
       " 0.0  0.0\n",
       " 0.0  0.0\n",
       " 0.0  0.0\n",
       " 0.0  0.0\n",
       " 0.0  0.0\n",
       " ⋮    \n",
       " 0.0  0.0\n",
       " 0.0  0.0\n",
       " 0.0  0.0\n",
       " 0.0  0.0\n",
       " 0.0  0.0\n",
       " 0.0  0.0\n",
       " 0.0  0.0\n",
       " 0.0  0.0\n",
       " 0.0  0.0"
      ]
     },
     "metadata": {},
     "output_type": "display_data"
    }
   ],
   "metadata": {}
  },
  {
   "cell_type": "markdown",
   "source": [
    "Clearly we only get significant speedup from using Fortran to run the whole model."
   ],
   "metadata": {}
  }
 ],
 "metadata": {
  "kernelspec": {
   "display_name": "Julia 1.6.2",
   "language": "julia",
   "name": "julia-1.6"
  },
  "language_info": {
   "name": "julia",
   "version": "1.6.2",
   "mimetype": "application/julia",
   "file_extension": ".jl"
  }
 },
 "nbformat": 4,
 "nbformat_minor": 5
}