{
 "cells": [
  {
   "cell_type": "code",
   "execution_count": 5,
   "id": "b5368972-5cf5-4183-9bad-8428d214e39e",
   "metadata": {},
   "outputs": [],
   "source": [
    "using Distributed, SharedArrays, BenchmarkTools\n",
    "cd(\"/home/mitchv34/Work/2nd Year/ECON 899 (Computational Methods)/1st Quarter/Problem Sets/Shared Repo/Shared Repo\")"
   ]
  },
  {
   "cell_type": "markdown",
   "id": "016f1ac3-8b85-4fb6-bafd-c1da8b6b0259",
   "metadata": {},
   "source": [
    "# Problem Set 4\n",
    "## Exercise 1\n",
    "### Question 1.\n",
    "Use the parametrization from the previous problem set. We continue to assume that labor supply is endogenous. Solve for the stationary equilibrium with social security $\\left(\\theta_{0}^{S S}=0.11\\right)$ and without it $\\left(\\theta_{N}^{S S}=0\\right)$ following the algorithm described in the lecture notes (Step 1: Calculating the stationary competitive equilibrium). Denote the initial distribution of agents over age, $j$, asset holdings, $a_{1}$ and productivity levels, $z$, by $\\Gamma_{0}^{S S}\\left(z, a, j ; \\theta_{0}^{S S}\\right) .$ Denote the welfare of agents alive in the initial steady state by $V_{0}^{S S}\\left(z, a, j ; \\theta_{0}^{S S}\\right)$"
   ]
  },
  {
   "cell_type": "code",
   "execution_count": 20,
   "id": "0e0e1f09-2682-491d-935a-8274c3afef2b",
   "metadata": {},
   "outputs": [
    {
     "name": "stdout",
     "output_type": "stream",
     "text": [
      " Iteration:           0 ERR=   16.358626257937690      K=   4.4537935486706104      L=  0.79162881905948246      LAMBDA=  0.85000002384185791     \n",
      " Iteration:           5 ERR=  0.22737910439768733      K=   4.5225565331171103      L=  0.53750883392717763      LAMBDA=  0.85000002384185791     \n",
      " Iteration:          10 ERR=  0.19205146789640626      K=   4.3759863788293991      L=  0.43442033183931417      LAMBDA=  0.85000002384185791     \n",
      " Iteration:          15 ERR=  0.11265566384420733      K=   4.2663290059704204      L=  0.39188151690653256      LAMBDA=  0.85000002384185791     \n",
      " Iteration:          20 ERR=   5.0060281247431782E-002 K=   4.2117407860784315      L=  0.37436851582553843      LAMBDA=  0.85000002384185791     \n",
      " Iteration:          25 ERR=   2.3825606104838748E-002 K=   4.1969027096024574      L=  0.36950962514047275      LAMBDA=  0.94999998807907104     \n",
      " Iteration:          30 ERR=   1.5645244777356737E-002 K=   4.1922675955517397      L=  0.36777809675354017      LAMBDA=  0.94999998807907104     \n",
      " Iteration:          32 ERR=   5.6723339501943415E-003 K=   4.1920022968912338      L=  0.36749447998841095      LAMBDA=  0.94999998807907104     \n",
      " Total elapsed time =    6.57700014      seconds\n"
     ]
    },
    {
     "data": {
      "text/plain": [
       "Process(`\u001b[4m'/home/mitchv34/Work/2nd Year/ECON 899 (Computational Methods)/1st Quarter/Problem Sets/Shared Repo/Shared Repo/PS4/FortranCode/V_Fortran'\u001b[24m \u001b[4m0.11\u001b[24m \u001b[4m2\u001b[24m \u001b[4m0.9\u001b[24m`, ProcessExited(0))"
      ]
     },
     "execution_count": 20,
     "metadata": {},
     "output_type": "execute_result"
    }
   ],
   "source": [
    "path = \"/home/mitchv34/Work/2nd Year/ECON 899 (Computational Methods)/1st Quarter/Problem Sets/Shared Repo/Shared Repo/PS4/FortranCode/\"\n",
    "run(`gfortran -fopenmp -O2 -o $(path)V_Fortran $(path)conesa_kueger.f90`)\n",
    "run(`$(path)V_Fortran $0.11 $2 $0.9`)"
   ]
  },
  {
   "cell_type": "code",
   "execution_count": 21,
   "id": "d368b7f9-a9b7-41b5-9382-d9afa1d4d32d",
   "metadata": {},
   "outputs": [
    {
     "name": "stdout",
     "output_type": "stream",
     "text": [
      " Iteration:           0 ERR=   3.7847544407229501      K=   2.5677130758728648      L=  0.79074658286762889      LAMBDA=  0.85000002384185791     \n",
      " Iteration:           5 ERR=  0.32070954535293472      K=   2.7680474588524611      L=  0.49948055399144753      LAMBDA=  0.85000002384185791     \n",
      " Iteration:          10 ERR=  0.29496849551482240      K=   2.5122676737637439      L=  0.38697421636692131      LAMBDA=  0.85000002384185791     \n",
      " Iteration:          15 ERR=  0.17177243800554631      K=   2.3483921353461668      L=  0.34019763911077705      LAMBDA=  0.85000002384185791     \n",
      " Iteration:          20 ERR=   9.2668279057510183E-002 K=   2.2554736060797320      L=  0.32049751385711145      LAMBDA=  0.85000002384185791     \n",
      " Iteration:          25 ERR=   4.3949638349467524E-002 K=   2.2122243195231808      L=  0.31244688887901212      LAMBDA=  0.89999997615814209     \n",
      " Iteration:          30 ERR=   2.6629774460057654E-002 K=   2.1957917831918388      L=  0.30959039796953741      LAMBDA=  0.89999997615814209     \n",
      " Iteration:          35 ERR=   2.0384763528864536E-002 K=   2.1901590197131533      L=  0.30867057420127991      LAMBDA=  0.94999998807907104     \n",
      " Iteration:          40 ERR=   1.5786657822018491E-002 K=   2.1857716296769509      L=  0.30796243640359688      LAMBDA=  0.94999998807907104     \n",
      " Iteration:          45 ERR=   1.2556497245950649E-002 K=   2.1823250038916422      L=  0.30741744588337705      LAMBDA=  0.94999998807907104     \n",
      " Iteration:          50 ERR=   9.7383569662290448E-003 K=   2.1796236467045937      L=  0.30699751573025802      LAMBDA=  0.94999998807907104     \n",
      " Iteration:          51 ERR=   9.7383569662290448E-003 K=   2.1796236467045937      L=  0.30699751573025802      LAMBDA=  0.94999998807907104     \n",
      " Total elapsed time =    21.5890007      seconds\n"
     ]
    },
    {
     "data": {
      "text/plain": [
       "Process(`\u001b[4m'/home/mitchv34/Work/2nd Year/ECON 899 (Computational Methods)/1st Quarter/Problem Sets/Shared Repo/Shared Repo/PS4/FortranCode/V_Fortran'\u001b[24m \u001b[4m0.0\u001b[24m \u001b[4m2\u001b[24m \u001b[4m0.9\u001b[24m`, ProcessExited(0))"
      ]
     },
     "execution_count": 21,
     "metadata": {},
     "output_type": "execute_result"
    }
   ],
   "source": [
    "run(`$(path)V_Fortran $0.0 $2 $0.9`)"
   ]
  },
  {
   "cell_type": "markdown",
   "id": "c72cb56e-0d9c-4e85-8228-3bc6a70a9169",
   "metadata": {},
   "source": [
    "### Question 2\n",
    "Compute the transition $p$ ath of the economy using the algorithm in Step 2: Solving for the transition path in the lecture notes. Try $N=30$ for the number of periods it approximately takes to get to the new steady state. Ob tain and store the value function for the generations in the initial steady state, $V_{0}\\left(z, a, j ; \\theta_{0}^{S S}, \\theta_{N}^{S S}\\right) .$ Plot the tr ansition p aths of interest rate, wage, capital and effective labor. Comment on the results you obtain."
   ]
  },
  {
   "cell_type": "code",
   "execution_count": null,
   "id": "3cfccabd-5259-4b53-8e62-ae2f6601be7d",
   "metadata": {},
   "outputs": [],
   "source": []
  },
  {
   "cell_type": "markdown",
   "id": "1b2d034a-c523-4cec-8b24-c773bab790e7",
   "metadata": {},
   "source": [
    "### Question 3. \n",
    "What fraction of the overall population would support the reform? Compute and plot the measure of consumption equivalent variation for eadh age, $E V_{j}$, using\n",
    "$$\n",
    "E V_{j}=\\sum_{z} \\int_{a} E V(z, a, j) \\Gamma_{0}^{S S}\\left(z, a, j ; \\theta_{0}^{S S}\\right) d a\n",
    "$$\n",
    "with\n",
    "$$\n",
    "E V(z, a, j)=\\left(\\frac{V_{0}\\left(z, a, j ; \\theta_{0}^{S S}, \\theta_{N}^{S S}\\right)}{V_{0}^{S S}\\left(z, a, j ; \\theta_{0}^{S S}\\right)}\\right)^{\\frac{1}{\\gamma(1-\\sigma)}}\n",
    "$$\n",
    "Discuss the results."
   ]
  },
  {
   "cell_type": "code",
   "execution_count": null,
   "id": "b162eff0-a9c4-4fa5-9984-42249a6bb7d9",
   "metadata": {},
   "outputs": [],
   "source": []
  }
 ],
 "metadata": {
  "kernelspec": {
   "display_name": "Julia 1.6.2",
   "language": "julia",
   "name": "julia-1.6"
  },
  "language_info": {
   "file_extension": ".jl",
   "mimetype": "application/julia",
   "name": "julia",
   "version": "1.6.2"
  }
 },
 "nbformat": 4,
 "nbformat_minor": 5
}
